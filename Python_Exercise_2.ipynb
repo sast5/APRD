{
  "nbformat": 4,
  "nbformat_minor": 0,
  "metadata": {
    "colab": {
      "name": "Python Exercise 2.ipynb",
      "provenance": []
    },
    "kernelspec": {
      "name": "python3",
      "display_name": "Python 3"
    }
  },
  "cells": [
    {
      "cell_type": "markdown",
      "metadata": {
        "id": "0rPYLjRXUKOr",
        "colab_type": "text"
      },
      "source": [
        "Python Exercise 2:\n",
        "Samuel Statton"
      ]
    },
    {
      "cell_type": "code",
      "metadata": {
        "id": "919GtWLQ0ERN",
        "colab_type": "code",
        "colab": {}
      },
      "source": [
        "import pandas as pd\n",
        "import statsmodels.api as sm \n",
        "import numpy as np\n",
        "import seaborn as sns\n",
        "import matplotlib.pyplot as plt\n",
        "import sklearn as sk\n",
        "from sklearn import linear_model"
      ],
      "execution_count": 0,
      "outputs": []
    },
    {
      "cell_type": "code",
      "metadata": {
        "id": "NFCKnZfY05Qv",
        "colab_type": "code",
        "colab": {}
      },
      "source": [
        "DATA_URL = 'http://128.138.93.164/aprd6342/data/TravelPonyFacebook.csv'\n",
        "df = pd.read_csv(DATA_URL)"
      ],
      "execution_count": 0,
      "outputs": []
    },
    {
      "cell_type": "code",
      "metadata": {
        "id": "NjkxAaFB03Tn",
        "colab_type": "code",
        "outputId": "225f1993-6beb-4456-82f0-05a507927d84",
        "colab": {
          "base_uri": "https://localhost:8080/",
          "height": 323
        }
      },
      "source": [
        "## Removing 0's ##\n",
        "travelpony = df[(df != 0).all(1)]\n",
        "travelpony.head()"
      ],
      "execution_count": 0,
      "outputs": [
        {
          "output_type": "execute_result",
          "data": {
            "text/html": [
              "<div>\n",
              "<style scoped>\n",
              "    .dataframe tbody tr th:only-of-type {\n",
              "        vertical-align: middle;\n",
              "    }\n",
              "\n",
              "    .dataframe tbody tr th {\n",
              "        vertical-align: top;\n",
              "    }\n",
              "\n",
              "    .dataframe thead th {\n",
              "        text-align: right;\n",
              "    }\n",
              "</style>\n",
              "<table border=\"1\" class=\"dataframe\">\n",
              "  <thead>\n",
              "    <tr style=\"text-align: right;\">\n",
              "      <th></th>\n",
              "      <th>Start Date</th>\n",
              "      <th>End Date</th>\n",
              "      <th>Account</th>\n",
              "      <th>Campaign Name</th>\n",
              "      <th>Reach</th>\n",
              "      <th>Frequency</th>\n",
              "      <th>Impressions</th>\n",
              "      <th>Clicks</th>\n",
              "      <th>Unique Clicks</th>\n",
              "      <th>Amount Spent (USD)</th>\n",
              "      <th>Page Likes</th>\n",
              "      <th>Page Engagement</th>\n",
              "      <th>Post Engagement</th>\n",
              "      <th>Post Likes</th>\n",
              "      <th>Post Comments</th>\n",
              "      <th>Post Shares</th>\n",
              "      <th>Photo Views</th>\n",
              "      <th>Website Clicks</th>\n",
              "      <th>Cost per Page Like (USD)</th>\n",
              "      <th>Cost per Page Engagement (USD)</th>\n",
              "    </tr>\n",
              "  </thead>\n",
              "  <tbody>\n",
              "    <tr>\n",
              "      <th>16</th>\n",
              "      <td>2013-11-08</td>\n",
              "      <td>2013-11-08</td>\n",
              "      <td>Bob Jackson</td>\n",
              "      <td>Post: \"You need to get some real sun and we ar...</td>\n",
              "      <td>8466</td>\n",
              "      <td>1.018663</td>\n",
              "      <td>8624</td>\n",
              "      <td>273</td>\n",
              "      <td>238</td>\n",
              "      <td>42.73</td>\n",
              "      <td>4</td>\n",
              "      <td>276</td>\n",
              "      <td>272</td>\n",
              "      <td>96</td>\n",
              "      <td>1</td>\n",
              "      <td>18</td>\n",
              "      <td>156</td>\n",
              "      <td>1</td>\n",
              "      <td>10.682500</td>\n",
              "      <td>0.154819</td>\n",
              "    </tr>\n",
              "    <tr>\n",
              "      <th>356</th>\n",
              "      <td>2013-10-02</td>\n",
              "      <td>2013-10-02</td>\n",
              "      <td>Bob Jackson</td>\n",
              "      <td>Nanigans_2_648</td>\n",
              "      <td>4905</td>\n",
              "      <td>1.004893</td>\n",
              "      <td>4929</td>\n",
              "      <td>37</td>\n",
              "      <td>30</td>\n",
              "      <td>46.96</td>\n",
              "      <td>12</td>\n",
              "      <td>38</td>\n",
              "      <td>26</td>\n",
              "      <td>5</td>\n",
              "      <td>1</td>\n",
              "      <td>1</td>\n",
              "      <td>2</td>\n",
              "      <td>17</td>\n",
              "      <td>3.913333</td>\n",
              "      <td>1.235789</td>\n",
              "    </tr>\n",
              "    <tr>\n",
              "      <th>467</th>\n",
              "      <td>2013-09-30</td>\n",
              "      <td>2013-09-30</td>\n",
              "      <td>Bob Jackson</td>\n",
              "      <td>Simple_Multi_Fill_Campaign_2_583</td>\n",
              "      <td>6710</td>\n",
              "      <td>1.000000</td>\n",
              "      <td>6710</td>\n",
              "      <td>35</td>\n",
              "      <td>30</td>\n",
              "      <td>55.22</td>\n",
              "      <td>7</td>\n",
              "      <td>37</td>\n",
              "      <td>30</td>\n",
              "      <td>7</td>\n",
              "      <td>1</td>\n",
              "      <td>3</td>\n",
              "      <td>4</td>\n",
              "      <td>15</td>\n",
              "      <td>7.888571</td>\n",
              "      <td>1.492432</td>\n",
              "    </tr>\n",
              "    <tr>\n",
              "      <th>775</th>\n",
              "      <td>2013-09-26</td>\n",
              "      <td>2013-09-26</td>\n",
              "      <td>Bob Jackson</td>\n",
              "      <td>Simple_Multi_Fill_Campaign_2_583</td>\n",
              "      <td>8750</td>\n",
              "      <td>1.007657</td>\n",
              "      <td>8817</td>\n",
              "      <td>65</td>\n",
              "      <td>55</td>\n",
              "      <td>100.92</td>\n",
              "      <td>16</td>\n",
              "      <td>85</td>\n",
              "      <td>69</td>\n",
              "      <td>14</td>\n",
              "      <td>4</td>\n",
              "      <td>3</td>\n",
              "      <td>16</td>\n",
              "      <td>32</td>\n",
              "      <td>6.307500</td>\n",
              "      <td>1.187294</td>\n",
              "    </tr>\n",
              "    <tr>\n",
              "      <th>842</th>\n",
              "      <td>2013-09-24</td>\n",
              "      <td>2013-09-24</td>\n",
              "      <td>Bob Jackson</td>\n",
              "      <td>Simple_Multi_Fill_Campaign_1_341</td>\n",
              "      <td>9296</td>\n",
              "      <td>1.000000</td>\n",
              "      <td>9296</td>\n",
              "      <td>21</td>\n",
              "      <td>18</td>\n",
              "      <td>41.20</td>\n",
              "      <td>3</td>\n",
              "      <td>39</td>\n",
              "      <td>36</td>\n",
              "      <td>1</td>\n",
              "      <td>2</td>\n",
              "      <td>2</td>\n",
              "      <td>19</td>\n",
              "      <td>12</td>\n",
              "      <td>13.733333</td>\n",
              "      <td>1.056410</td>\n",
              "    </tr>\n",
              "  </tbody>\n",
              "</table>\n",
              "</div>"
            ],
            "text/plain": [
              "     Start Date  ... Cost per Page Engagement (USD)\n",
              "16   2013-11-08  ...                       0.154819\n",
              "356  2013-10-02  ...                       1.235789\n",
              "467  2013-09-30  ...                       1.492432\n",
              "775  2013-09-26  ...                       1.187294\n",
              "842  2013-09-24  ...                       1.056410\n",
              "\n",
              "[5 rows x 20 columns]"
            ]
          },
          "metadata": {
            "tags": []
          },
          "execution_count": 101
        }
      ]
    },
    {
      "cell_type": "markdown",
      "metadata": {
        "id": "NRuFnmnF0gwj",
        "colab_type": "text"
      },
      "source": [
        "Question 1:"
      ]
    },
    {
      "cell_type": "code",
      "metadata": {
        "id": "EaUxTm9U0PaR",
        "colab_type": "code",
        "outputId": "748e10e9-1321-4759-c137-e5b23e15fed0",
        "colab": {
          "base_uri": "https://localhost:8080/",
          "height": 296
        }
      },
      "source": [
        "## Amount Spent Histogram ##\n",
        "sns.set_style('darkgrid')\n",
        "sns.distplot(travelpony['Amount Spent (USD)'])"
      ],
      "execution_count": 0,
      "outputs": [
        {
          "output_type": "execute_result",
          "data": {
            "text/plain": [
              "<matplotlib.axes._subplots.AxesSubplot at 0x7fd40e6a4d68>"
            ]
          },
          "metadata": {
            "tags": []
          },
          "execution_count": 102
        },
        {
          "output_type": "display_data",
          "data": {
            "image/png": "[encoded data removed]",
            "text/plain": [
              "<Figure size 432x288 with 1 Axes>"
            ]
          },
          "metadata": {
            "tags": []
          }
        }
      ]
    },
    {
      "cell_type": "code",
      "metadata": {
        "id": "Y0bknHkL1Rhv",
        "colab_type": "code",
        "outputId": "a0a42252-2088-4409-952f-6f39b062204d",
        "colab": {
          "base_uri": "https://localhost:8080/",
          "height": 296
        }
      },
      "source": [
        "## Log Amount Spent ##\n",
        "sns.set_style('darkgrid')\n",
        "sns.distplot(np.log(travelpony['Amount Spent (USD)']))\n",
        "## As a result, this distribution looks much more normal ##"
      ],
      "execution_count": 0,
      "outputs": [
        {
          "output_type": "execute_result",
          "data": {
            "text/plain": [
              "<matplotlib.axes._subplots.AxesSubplot at 0x7fd412bb2e48>"
            ]
          },
          "metadata": {
            "tags": []
          },
          "execution_count": 103
        },
        {
          "output_type": "display_data",
          "data": {
            "image/png": "[encoded data removed]",
            "text/plain": [
              "<Figure size 432x288 with 1 Axes>"
            ]
          },
          "metadata": {
            "tags": []
          }
        }
      ]
    },
    {
      "cell_type": "code",
      "metadata": {
        "id": "exFYJ1EX1hyy",
        "colab_type": "code",
        "outputId": "ef42f803-beec-4cac-ad37-48ec1e650e40",
        "colab": {
          "base_uri": "https://localhost:8080/",
          "height": 296
        }
      },
      "source": [
        "## Scatter Plots ##\n",
        "sns.scatterplot(travelpony['Reach'], travelpony['Amount Spent (USD)'])\n",
        "## Looking linear ##"
      ],
      "execution_count": 0,
      "outputs": [
        {
          "output_type": "execute_result",
          "data": {
            "text/plain": [
              "<matplotlib.axes._subplots.AxesSubplot at 0x7fd413110710>"
            ]
          },
          "metadata": {
            "tags": []
          },
          "execution_count": 104
        },
        {
          "output_type": "display_data",
          "data": {
            "image/png": "[encoded data removed]",
            "text/plain": [
              "<Figure size 432x288 with 1 Axes>"
            ]
          },
          "metadata": {
            "tags": []
          }
        }
      ]
    },
    {
      "cell_type": "code",
      "metadata": {
        "id": "jHeLRz0O2DuX",
        "colab_type": "code",
        "outputId": "49b41114-83c0-4d37-8d5c-6438326c533d",
        "colab": {
          "base_uri": "https://localhost:8080/",
          "height": 296
        }
      },
      "source": [
        "sns.scatterplot(travelpony['Frequency'], travelpony['Amount Spent (USD)'])\n",
        "## Frequency is looking a bit strange due to it's nature of always being >= 1.0 ##"
      ],
      "execution_count": 0,
      "outputs": [
        {
          "output_type": "execute_result",
          "data": {
            "text/plain": [
              "<matplotlib.axes._subplots.AxesSubplot at 0x7fd40e12f0b8>"
            ]
          },
          "metadata": {
            "tags": []
          },
          "execution_count": 105
        },
        {
          "output_type": "display_data",
          "data": {
            "image/png": "[encoded data removed]",
            "text/plain": [
              "<Figure size 432x288 with 1 Axes>"
            ]
          },
          "metadata": {
            "tags": []
          }
        }
      ]
    },
    {
      "cell_type": "code",
      "metadata": {
        "id": "Xl4oxuE62XB5",
        "colab_type": "code",
        "outputId": "d414844e-0e10-4b4b-8b8b-ccf5a0e29981",
        "colab": {
          "base_uri": "https://localhost:8080/",
          "height": 296
        }
      },
      "source": [
        "sns.scatterplot(travelpony['Impressions'], travelpony['Amount Spent (USD)'])\n",
        "## Looking most linear ##"
      ],
      "execution_count": 0,
      "outputs": [
        {
          "output_type": "execute_result",
          "data": {
            "text/plain": [
              "<matplotlib.axes._subplots.AxesSubplot at 0x7fd40e09ec88>"
            ]
          },
          "metadata": {
            "tags": []
          },
          "execution_count": 106
        },
        {
          "output_type": "display_data",
          "data": {
            "image/png": "[encoded data removed]",
            "text/plain": [
              "<Figure size 432x288 with 1 Axes>"
            ]
          },
          "metadata": {
            "tags": []
          }
        }
      ]
    },
    {
      "cell_type": "code",
      "metadata": {
        "id": "Rk6EJ8imNEG8",
        "colab_type": "code",
        "outputId": "f9c96d8e-d876-4640-bb85-333279844e77",
        "colab": {
          "base_uri": "https://localhost:8080/",
          "height": 296
        }
      },
      "source": [
        "sns.scatterplot(travelpony['Clicks'], travelpony['Amount Spent (USD)'])\n",
        "## Looking linear ##"
      ],
      "execution_count": 0,
      "outputs": [
        {
          "output_type": "execute_result",
          "data": {
            "text/plain": [
              "<matplotlib.axes._subplots.AxesSubplot at 0x7fd40e069da0>"
            ]
          },
          "metadata": {
            "tags": []
          },
          "execution_count": 107
        },
        {
          "output_type": "display_data",
          "data": {
            "image/png": "[encoded data removed]",
            "text/plain": [
              "<Figure size 432x288 with 1 Axes>"
            ]
          },
          "metadata": {
            "tags": []
          }
        }
      ]
    },
    {
      "cell_type": "markdown",
      "metadata": {
        "id": "0kxZt0fwTq0A",
        "colab_type": "text"
      },
      "source": [
        "Overall, the scatterplots do not give major cause for concern. There are outliers that may have greater leverage on the regression performed in question 2, but it is acceptable for now. "
      ]
    },
    {
      "cell_type": "markdown",
      "metadata": {
        "id": "67ZqTE7qAQLR",
        "colab_type": "text"
      },
      "source": [
        "Question 2:"
      ]
    },
    {
      "cell_type": "code",
      "metadata": {
        "id": "X7iY5GFVA9En",
        "colab_type": "code",
        "colab": {}
      },
      "source": [
        "data = travelpony[[\"Campaign Name\", \"Reach\", \"Frequency\", \"Impressions\", \"Clicks\", \"Unique Clicks\", \"Page Likes\", \"Page Engagement\", \"Post Engagement\",\"Post Likes\",\"Post Comments\", \"Post Shares\", \"Photo Views\", \"Website Clicks\"]]\n",
        "dummycols = pd.get_dummies(travelpony['Campaign Name'])\n",
        "travelpony = travelpony.join(dummycols)"
      ],
      "execution_count": 0,
      "outputs": []
    },
    {
      "cell_type": "code",
      "metadata": {
        "id": "VlcppivgASNU",
        "colab_type": "code",
        "outputId": "84af4140-9893-4cba-90a2-8ea86181dd0a",
        "colab": {
          "base_uri": "https://localhost:8080/",
          "height": 1000
        }
      },
      "source": [
        "## SKLearn Multiple Regression ## \n",
        "target = travelpony[\"Amount Spent (USD)\"]\n",
        "features= list(range(4,9,1))+list(range(10,18,1))+list(range(20,65,1))\n",
        "xcols = travelpony.iloc[:,features]\n",
        "sm.OLS(target, xcols).fit().summary()"
      ],
      "execution_count": 0,
      "outputs": [
        {
          "output_type": "execute_result",
          "data": {
            "text/html": [
              "<table class=\"simpletable\">\n",
              "<caption>OLS Regression Results</caption>\n",
              "<tr>\n",
              "  <th>Dep. Variable:</th>    <td>Amount Spent (USD)</td> <th>  R-squared (uncentered):</th>      <td>   0.983</td>\n",
              "</tr>\n",
              "<tr>\n",
              "  <th>Model:</th>                    <td>OLS</td>        <th>  Adj. R-squared (uncentered):</th> <td>   0.942</td>\n",
              "</tr>\n",
              "<tr>\n",
              "  <th>Method:</th>              <td>Least Squares</td>   <th>  F-statistic:       </th>          <td>   24.10</td>\n",
              "</tr>\n",
              "<tr>\n",
              "  <th>Date:</th>              <td>Thu, 21 Nov 2019</td>  <th>  Prob (F-statistic):</th>          <td>5.43e-12</td>\n",
              "</tr>\n",
              "<tr>\n",
              "  <th>Time:</th>                  <td>00:16:31</td>      <th>  Log-Likelihood:    </th>          <td> -290.14</td>\n",
              "</tr>\n",
              "<tr>\n",
              "  <th>No. Observations:</th>       <td>    79</td>       <th>  AIC:               </th>          <td>   692.3</td>\n",
              "</tr>\n",
              "<tr>\n",
              "  <th>Df Residuals:</th>           <td>    23</td>       <th>  BIC:               </th>          <td>   825.0</td>\n",
              "</tr>\n",
              "<tr>\n",
              "  <th>Df Model:</th>               <td>    56</td>       <th>                     </th>              <td> </td>   \n",
              "</tr>\n",
              "<tr>\n",
              "  <th>Covariance Type:</th>       <td>nonrobust</td>     <th>                     </th>              <td> </td>   \n",
              "</tr>\n",
              "</table>\n",
              "<table class=\"simpletable\">\n",
              "<tr>\n",
              "                               <td></td>                                  <th>coef</th>     <th>std err</th>      <th>t</th>      <th>P>|t|</th>  <th>[0.025</th>    <th>0.975]</th>  \n",
              "</tr>\n",
              "<tr>\n",
              "  <th>Reach</th>                                                       <td>    0.0106</td> <td>    0.033</td> <td>    0.325</td> <td> 0.748</td> <td>   -0.057</td> <td>    0.078</td>\n",
              "</tr>\n",
              "<tr>\n",
              "  <th>Frequency</th>                                                   <td>    9.1370</td> <td>   19.738</td> <td>    0.463</td> <td> 0.648</td> <td>  -31.695</td> <td>   49.969</td>\n",
              "</tr>\n",
              "<tr>\n",
              "  <th>Impressions</th>                                                 <td>   -0.0063</td> <td>    0.033</td> <td>   -0.192</td> <td> 0.849</td> <td>   -0.074</td> <td>    0.061</td>\n",
              "</tr>\n",
              "<tr>\n",
              "  <th>Clicks</th>                                                      <td>   -1.6498</td> <td>    1.032</td> <td>   -1.599</td> <td> 0.124</td> <td>   -3.785</td> <td>    0.485</td>\n",
              "</tr>\n",
              "<tr>\n",
              "  <th>Unique Clicks</th>                                               <td>    1.1475</td> <td>    0.799</td> <td>    1.437</td> <td> 0.164</td> <td>   -0.504</td> <td>    2.799</td>\n",
              "</tr>\n",
              "<tr>\n",
              "  <th>Page Likes</th>                                                  <td>    0.8986</td> <td>    0.742</td> <td>    1.212</td> <td> 0.238</td> <td>   -0.636</td> <td>    2.433</td>\n",
              "</tr>\n",
              "<tr>\n",
              "  <th>Page Engagement</th>                                             <td>    0.9890</td> <td>    0.490</td> <td>    2.019</td> <td> 0.055</td> <td>   -0.024</td> <td>    2.002</td>\n",
              "</tr>\n",
              "<tr>\n",
              "  <th>Post Engagement</th>                                             <td>    0.0905</td> <td>    0.598</td> <td>    0.151</td> <td> 0.881</td> <td>   -1.147</td> <td>    1.328</td>\n",
              "</tr>\n",
              "<tr>\n",
              "  <th>Post Likes</th>                                                  <td>    0.0532</td> <td>    1.347</td> <td>    0.040</td> <td> 0.969</td> <td>   -2.733</td> <td>    2.839</td>\n",
              "</tr>\n",
              "<tr>\n",
              "  <th>Post Comments</th>                                               <td>    0.4624</td> <td>    3.539</td> <td>    0.131</td> <td> 0.897</td> <td>   -6.859</td> <td>    7.783</td>\n",
              "</tr>\n",
              "<tr>\n",
              "  <th>Post Shares</th>                                                 <td>    0.2616</td> <td>    2.604</td> <td>    0.100</td> <td> 0.921</td> <td>   -5.126</td> <td>    5.649</td>\n",
              "</tr>\n",
              "<tr>\n",
              "  <th>Photo Views</th>                                                 <td>   -0.9153</td> <td>    0.861</td> <td>   -1.063</td> <td> 0.299</td> <td>   -2.696</td> <td>    0.866</td>\n",
              "</tr>\n",
              "<tr>\n",
              "  <th>Website Clicks</th>                                              <td>    0.2286</td> <td>    1.090</td> <td>    0.210</td> <td> 0.836</td> <td>   -2.027</td> <td>    2.484</td>\n",
              "</tr>\n",
              "<tr>\n",
              "  <th>Nanigans_2_648</th>                                              <td>  -10.5709</td> <td>   22.499</td> <td>   -0.470</td> <td> 0.643</td> <td>  -57.114</td> <td>   35.972</td>\n",
              "</tr>\n",
              "<tr>\n",
              "  <th>Post: \"You need to get some real sun and we are here to...\"</th> <td>    5.9559</td> <td>  109.496</td> <td>    0.054</td> <td> 0.957</td> <td> -220.553</td> <td>  232.465</td>\n",
              "</tr>\n",
              "<tr>\n",
              "  <th>Simple_Multi_Fill_Campaign_1_238</th>                            <td>   12.9472</td> <td>   33.789</td> <td>    0.383</td> <td> 0.705</td> <td>  -56.951</td> <td>   82.845</td>\n",
              "</tr>\n",
              "<tr>\n",
              "  <th>Simple_Multi_Fill_Campaign_1_240</th>                            <td>  -17.8127</td> <td>   24.767</td> <td>   -0.719</td> <td> 0.479</td> <td>  -69.047</td> <td>   33.422</td>\n",
              "</tr>\n",
              "<tr>\n",
              "  <th>Simple_Multi_Fill_Campaign_1_241</th>                            <td>  -11.6070</td> <td>   29.123</td> <td>   -0.399</td> <td> 0.694</td> <td>  -71.852</td> <td>   48.638</td>\n",
              "</tr>\n",
              "<tr>\n",
              "  <th>Simple_Multi_Fill_Campaign_1_243</th>                            <td>  -18.6019</td> <td>   25.469</td> <td>   -0.730</td> <td> 0.473</td> <td>  -71.288</td> <td>   34.084</td>\n",
              "</tr>\n",
              "<tr>\n",
              "  <th>Simple_Multi_Fill_Campaign_1_247</th>                            <td>  -13.5660</td> <td>   31.327</td> <td>   -0.433</td> <td> 0.669</td> <td>  -78.370</td> <td>   51.238</td>\n",
              "</tr>\n",
              "<tr>\n",
              "  <th>Simple_Multi_Fill_Campaign_1_251</th>                            <td>  -28.9495</td> <td>   24.864</td> <td>   -1.164</td> <td> 0.256</td> <td>  -80.384</td> <td>   22.485</td>\n",
              "</tr>\n",
              "<tr>\n",
              "  <th>Simple_Multi_Fill_Campaign_1_255</th>                            <td>    1.3333</td> <td>   29.382</td> <td>    0.045</td> <td> 0.964</td> <td>  -59.447</td> <td>   62.114</td>\n",
              "</tr>\n",
              "<tr>\n",
              "  <th>Simple_Multi_Fill_Campaign_1_260</th>                            <td>   -7.8202</td> <td>   34.813</td> <td>   -0.225</td> <td> 0.824</td> <td>  -79.837</td> <td>   64.197</td>\n",
              "</tr>\n",
              "<tr>\n",
              "  <th>Simple_Multi_Fill_Campaign_1_263</th>                            <td>   12.3635</td> <td>   33.740</td> <td>    0.366</td> <td> 0.717</td> <td>  -57.433</td> <td>   82.160</td>\n",
              "</tr>\n",
              "<tr>\n",
              "  <th>Simple_Multi_Fill_Campaign_1_266</th>                            <td>   10.0572</td> <td>   33.508</td> <td>    0.300</td> <td> 0.767</td> <td>  -59.259</td> <td>   79.374</td>\n",
              "</tr>\n",
              "<tr>\n",
              "  <th>Simple_Multi_Fill_Campaign_1_275</th>                            <td>  -16.1007</td> <td>   22.415</td> <td>   -0.718</td> <td> 0.480</td> <td>  -62.469</td> <td>   30.267</td>\n",
              "</tr>\n",
              "<tr>\n",
              "  <th>Simple_Multi_Fill_Campaign_1_298</th>                            <td>  -15.5740</td> <td>   23.808</td> <td>   -0.654</td> <td> 0.520</td> <td>  -64.825</td> <td>   33.677</td>\n",
              "</tr>\n",
              "<tr>\n",
              "  <th>Simple_Multi_Fill_Campaign_1_301</th>                            <td>   -6.5851</td> <td>   26.204</td> <td>   -0.251</td> <td> 0.804</td> <td>  -60.793</td> <td>   47.622</td>\n",
              "</tr>\n",
              "<tr>\n",
              "  <th>Simple_Multi_Fill_Campaign_1_307</th>                            <td>  -14.3300</td> <td>   25.219</td> <td>   -0.568</td> <td> 0.575</td> <td>  -66.499</td> <td>   37.839</td>\n",
              "</tr>\n",
              "<tr>\n",
              "  <th>Simple_Multi_Fill_Campaign_1_319</th>                            <td>    3.9161</td> <td>   31.688</td> <td>    0.124</td> <td> 0.903</td> <td>  -61.635</td> <td>   69.467</td>\n",
              "</tr>\n",
              "<tr>\n",
              "  <th>Simple_Multi_Fill_Campaign_1_320</th>                            <td>    9.7735</td> <td>   17.802</td> <td>    0.549</td> <td> 0.588</td> <td>  -27.053</td> <td>   46.599</td>\n",
              "</tr>\n",
              "<tr>\n",
              "  <th>Simple_Multi_Fill_Campaign_1_321</th>                            <td>   21.0093</td> <td>   24.114</td> <td>    0.871</td> <td> 0.393</td> <td>  -28.874</td> <td>   70.892</td>\n",
              "</tr>\n",
              "<tr>\n",
              "  <th>Simple_Multi_Fill_Campaign_1_322</th>                            <td>   -8.8458</td> <td>   26.142</td> <td>   -0.338</td> <td> 0.738</td> <td>  -62.925</td> <td>   45.233</td>\n",
              "</tr>\n",
              "<tr>\n",
              "  <th>Simple_Multi_Fill_Campaign_1_323</th>                            <td>  -11.4563</td> <td>   34.448</td> <td>   -0.333</td> <td> 0.742</td> <td>  -82.717</td> <td>   59.805</td>\n",
              "</tr>\n",
              "<tr>\n",
              "  <th>Simple_Multi_Fill_Campaign_1_324</th>                            <td>    4.2161</td> <td>   19.597</td> <td>    0.215</td> <td> 0.832</td> <td>  -36.324</td> <td>   44.756</td>\n",
              "</tr>\n",
              "<tr>\n",
              "  <th>Simple_Multi_Fill_Campaign_1_325</th>                            <td>  -12.1267</td> <td>   27.584</td> <td>   -0.440</td> <td> 0.664</td> <td>  -69.189</td> <td>   44.936</td>\n",
              "</tr>\n",
              "<tr>\n",
              "  <th>Simple_Multi_Fill_Campaign_1_326</th>                            <td>   -8.0421</td> <td>   25.795</td> <td>   -0.312</td> <td> 0.758</td> <td>  -61.402</td> <td>   45.318</td>\n",
              "</tr>\n",
              "<tr>\n",
              "  <th>Simple_Multi_Fill_Campaign_1_330</th>                            <td>  -25.5118</td> <td>   29.227</td> <td>   -0.873</td> <td> 0.392</td> <td>  -85.972</td> <td>   34.949</td>\n",
              "</tr>\n",
              "<tr>\n",
              "  <th>Simple_Multi_Fill_Campaign_1_333</th>                            <td>  -18.7389</td> <td>   28.913</td> <td>   -0.648</td> <td> 0.523</td> <td>  -78.551</td> <td>   41.073</td>\n",
              "</tr>\n",
              "<tr>\n",
              "  <th>Simple_Multi_Fill_Campaign_1_336</th>                            <td>  -16.7837</td> <td>   24.863</td> <td>   -0.675</td> <td> 0.506</td> <td>  -68.217</td> <td>   34.649</td>\n",
              "</tr>\n",
              "<tr>\n",
              "  <th>Simple_Multi_Fill_Campaign_1_337</th>                            <td>  -17.0019</td> <td>   17.605</td> <td>   -0.966</td> <td> 0.344</td> <td>  -53.420</td> <td>   19.417</td>\n",
              "</tr>\n",
              "<tr>\n",
              "  <th>Simple_Multi_Fill_Campaign_1_339</th>                            <td>  -19.8797</td> <td>   27.193</td> <td>   -0.731</td> <td> 0.472</td> <td>  -76.132</td> <td>   36.373</td>\n",
              "</tr>\n",
              "<tr>\n",
              "  <th>Simple_Multi_Fill_Campaign_1_341</th>                            <td>  -25.7951</td> <td>   24.031</td> <td>   -1.073</td> <td> 0.294</td> <td>  -75.508</td> <td>   23.918</td>\n",
              "</tr>\n",
              "<tr>\n",
              "  <th>Simple_Multi_Fill_Campaign_1_352</th>                            <td>  -27.3866</td> <td>   31.119</td> <td>   -0.880</td> <td> 0.388</td> <td>  -91.761</td> <td>   36.988</td>\n",
              "</tr>\n",
              "<tr>\n",
              "  <th>Simple_Multi_Fill_Campaign_1_353</th>                            <td>  -25.0886</td> <td>   26.092</td> <td>   -0.962</td> <td> 0.346</td> <td>  -79.064</td> <td>   28.887</td>\n",
              "</tr>\n",
              "<tr>\n",
              "  <th>Simple_Multi_Fill_Campaign_1_355</th>                            <td>   -7.5102</td> <td>   23.887</td> <td>   -0.314</td> <td> 0.756</td> <td>  -56.924</td> <td>   41.904</td>\n",
              "</tr>\n",
              "<tr>\n",
              "  <th>Simple_Multi_Fill_Campaign_1_356</th>                            <td>  -21.7061</td> <td>   34.953</td> <td>   -0.621</td> <td> 0.541</td> <td>  -94.013</td> <td>   50.601</td>\n",
              "</tr>\n",
              "<tr>\n",
              "  <th>Simple_Multi_Fill_Campaign_1_357</th>                            <td>   -9.2220</td> <td>   28.939</td> <td>   -0.319</td> <td> 0.753</td> <td>  -69.088</td> <td>   50.644</td>\n",
              "</tr>\n",
              "<tr>\n",
              "  <th>Simple_Multi_Fill_Campaign_1_361</th>                            <td>   -8.7996</td> <td>   27.214</td> <td>   -0.323</td> <td> 0.749</td> <td>  -65.096</td> <td>   47.497</td>\n",
              "</tr>\n",
              "<tr>\n",
              "  <th>Simple_Multi_Fill_Campaign_1_365</th>                            <td>  -19.4009</td> <td>   25.337</td> <td>   -0.766</td> <td> 0.452</td> <td>  -71.815</td> <td>   33.014</td>\n",
              "</tr>\n",
              "<tr>\n",
              "  <th>Simple_Multi_Fill_Campaign_1_368</th>                            <td>  -51.5205</td> <td>   25.791</td> <td>   -1.998</td> <td> 0.058</td> <td> -104.874</td> <td>    1.833</td>\n",
              "</tr>\n",
              "<tr>\n",
              "  <th>Simple_Multi_Fill_Campaign_1_385</th>                            <td>  -27.8885</td> <td>   26.189</td> <td>   -1.065</td> <td> 0.298</td> <td>  -82.065</td> <td>   26.288</td>\n",
              "</tr>\n",
              "<tr>\n",
              "  <th>Simple_Multi_Fill_Campaign_1_388</th>                            <td>  -17.4113</td> <td>   25.590</td> <td>   -0.680</td> <td> 0.503</td> <td>  -70.348</td> <td>   35.525</td>\n",
              "</tr>\n",
              "<tr>\n",
              "  <th>Simple_Multi_Fill_Campaign_1_415</th>                            <td>  -12.3431</td> <td>   28.695</td> <td>   -0.430</td> <td> 0.671</td> <td>  -71.703</td> <td>   47.017</td>\n",
              "</tr>\n",
              "<tr>\n",
              "  <th>Simple_Multi_Fill_Campaign_1_43</th>                             <td>  -16.5499</td> <td>   24.861</td> <td>   -0.666</td> <td> 0.512</td> <td>  -67.979</td> <td>   34.879</td>\n",
              "</tr>\n",
              "<tr>\n",
              "  <th>Simple_Multi_Fill_Campaign_1_433</th>                            <td>  -26.7462</td> <td>   23.867</td> <td>   -1.121</td> <td> 0.274</td> <td>  -76.118</td> <td>   22.626</td>\n",
              "</tr>\n",
              "<tr>\n",
              "  <th>Simple_Multi_Fill_Campaign_1_440</th>                            <td>  -13.7395</td> <td>   25.765</td> <td>   -0.533</td> <td> 0.599</td> <td>  -67.039</td> <td>   39.560</td>\n",
              "</tr>\n",
              "<tr>\n",
              "  <th>Simple_Multi_Fill_Campaign_1_474</th>                            <td>   -4.1660</td> <td>   27.096</td> <td>   -0.154</td> <td> 0.879</td> <td>  -60.219</td> <td>   51.887</td>\n",
              "</tr>\n",
              "</table>\n",
              "<table class=\"simpletable\">\n",
              "<tr>\n",
              "  <th>Omnibus:</th>       <td>15.499</td> <th>  Durbin-Watson:     </th> <td>   1.714</td>\n",
              "</tr>\n",
              "<tr>\n",
              "  <th>Prob(Omnibus):</th> <td> 0.000</td> <th>  Jarque-Bera (JB):  </th> <td>  46.988</td>\n",
              "</tr>\n",
              "<tr>\n",
              "  <th>Skew:</th>          <td> 0.437</td> <th>  Prob(JB):          </th> <td>6.26e-11</td>\n",
              "</tr>\n",
              "<tr>\n",
              "  <th>Kurtosis:</th>      <td> 6.676</td> <th>  Cond. No.          </th> <td>1.72e+19</td>\n",
              "</tr>\n",
              "</table><br/><br/>Warnings:<br/>[1] Standard Errors assume that the covariance matrix of the errors is correctly specified.<br/>[2] The smallest eigenvalue is 6.1e-29. This might indicate that there are<br/>strong multicollinearity problems or that the design matrix is singular."
            ],
            "text/plain": [
              "<class 'statsmodels.iolib.summary.Summary'>\n",
              "\"\"\"\n",
              "                                 OLS Regression Results                                \n",
              "=======================================================================================\n",
              "Dep. Variable:     Amount Spent (USD)   R-squared (uncentered):                   0.983\n",
              "Model:                            OLS   Adj. R-squared (uncentered):              0.942\n",
              "Method:                 Least Squares   F-statistic:                              24.10\n",
              "Date:                Thu, 21 Nov 2019   Prob (F-statistic):                    5.43e-12\n",
              "Time:                        00:16:31   Log-Likelihood:                         -290.14\n",
              "No. Observations:                  79   AIC:                                      692.3\n",
              "Df Residuals:                      23   BIC:                                      825.0\n",
              "Df Model:                          56                                                  \n",
              "Covariance Type:            nonrobust                                                  \n",
              "===============================================================================================================================\n",
              "                                                                  coef    std err          t      P>|t|      [0.025      0.975]\n",
              "-------------------------------------------------------------------------------------------------------------------------------\n",
              "Reach                                                           0.0106      0.033      0.325      0.748      -0.057       0.078\n",
              "Frequency                                                       9.1370     19.738      0.463      0.648     -31.695      49.969\n",
              "Impressions                                                    -0.0063      0.033     -0.192      0.849      -0.074       0.061\n",
              "Clicks                                                         -1.6498      1.032     -1.599      0.124      -3.785       0.485\n",
              "Unique Clicks                                                   1.1475      0.799      1.437      0.164      -0.504       2.799\n",
              "Page Likes                                                      0.8986      0.742      1.212      0.238      -0.636       2.433\n",
              "Page Engagement                                                 0.9890      0.490      2.019      0.055      -0.024       2.002\n",
              "Post Engagement                                                 0.0905      0.598      0.151      0.881      -1.147       1.328\n",
              "Post Likes                                                      0.0532      1.347      0.040      0.969      -2.733       2.839\n",
              "Post Comments                                                   0.4624      3.539      0.131      0.897      -6.859       7.783\n",
              "Post Shares                                                     0.2616      2.604      0.100      0.921      -5.126       5.649\n",
              "Photo Views                                                    -0.9153      0.861     -1.063      0.299      -2.696       0.866\n",
              "Website Clicks                                                  0.2286      1.090      0.210      0.836      -2.027       2.484\n",
              "Nanigans_2_648                                                -10.5709     22.499     -0.470      0.643     -57.114      35.972\n",
              "Post: \"You need to get some real sun and we are here to...\"     5.9559    109.496      0.054      0.957    -220.553     232.465\n",
              "Simple_Multi_Fill_Campaign_1_238                               12.9472     33.789      0.383      0.705     -56.951      82.845\n",
              "Simple_Multi_Fill_Campaign_1_240                              -17.8127     24.767     -0.719      0.479     -69.047      33.422\n",
              "Simple_Multi_Fill_Campaign_1_241                              -11.6070     29.123     -0.399      0.694     -71.852      48.638\n",
              "Simple_Multi_Fill_Campaign_1_243                              -18.6019     25.469     -0.730      0.473     -71.288      34.084\n",
              "Simple_Multi_Fill_Campaign_1_247                              -13.5660     31.327     -0.433      0.669     -78.370      51.238\n",
              "Simple_Multi_Fill_Campaign_1_251                              -28.9495     24.864     -1.164      0.256     -80.384      22.485\n",
              "Simple_Multi_Fill_Campaign_1_255                                1.3333     29.382      0.045      0.964     -59.447      62.114\n",
              "Simple_Multi_Fill_Campaign_1_260                               -7.8202     34.813     -0.225      0.824     -79.837      64.197\n",
              "Simple_Multi_Fill_Campaign_1_263                               12.3635     33.740      0.366      0.717     -57.433      82.160\n",
              "Simple_Multi_Fill_Campaign_1_266                               10.0572     33.508      0.300      0.767     -59.259      79.374\n",
              "Simple_Multi_Fill_Campaign_1_275                              -16.1007     22.415     -0.718      0.480     -62.469      30.267\n",
              "Simple_Multi_Fill_Campaign_1_298                              -15.5740     23.808     -0.654      0.520     -64.825      33.677\n",
              "Simple_Multi_Fill_Campaign_1_301                               -6.5851     26.204     -0.251      0.804     -60.793      47.622\n",
              "Simple_Multi_Fill_Campaign_1_307                              -14.3300     25.219     -0.568      0.575     -66.499      37.839\n",
              "Simple_Multi_Fill_Campaign_1_319                                3.9161     31.688      0.124      0.903     -61.635      69.467\n",
              "Simple_Multi_Fill_Campaign_1_320                                9.7735     17.802      0.549      0.588     -27.053      46.599\n",
              "Simple_Multi_Fill_Campaign_1_321                               21.0093     24.114      0.871      0.393     -28.874      70.892\n",
              "Simple_Multi_Fill_Campaign_1_322                               -8.8458     26.142     -0.338      0.738     -62.925      45.233\n",
              "Simple_Multi_Fill_Campaign_1_323                              -11.4563     34.448     -0.333      0.742     -82.717      59.805\n",
              "Simple_Multi_Fill_Campaign_1_324                                4.2161     19.597      0.215      0.832     -36.324      44.756\n",
              "Simple_Multi_Fill_Campaign_1_325                              -12.1267     27.584     -0.440      0.664     -69.189      44.936\n",
              "Simple_Multi_Fill_Campaign_1_326                               -8.0421     25.795     -0.312      0.758     -61.402      45.318\n",
              "Simple_Multi_Fill_Campaign_1_330                              -25.5118     29.227     -0.873      0.392     -85.972      34.949\n",
              "Simple_Multi_Fill_Campaign_1_333                              -18.7389     28.913     -0.648      0.523     -78.551      41.073\n",
              "Simple_Multi_Fill_Campaign_1_336                              -16.7837     24.863     -0.675      0.506     -68.217      34.649\n",
              "Simple_Multi_Fill_Campaign_1_337                              -17.0019     17.605     -0.966      0.344     -53.420      19.417\n",
              "Simple_Multi_Fill_Campaign_1_339                              -19.8797     27.193     -0.731      0.472     -76.132      36.373\n",
              "Simple_Multi_Fill_Campaign_1_341                              -25.7951     24.031     -1.073      0.294     -75.508      23.918\n",
              "Simple_Multi_Fill_Campaign_1_352                              -27.3866     31.119     -0.880      0.388     -91.761      36.988\n",
              "Simple_Multi_Fill_Campaign_1_353                              -25.0886     26.092     -0.962      0.346     -79.064      28.887\n",
              "Simple_Multi_Fill_Campaign_1_355                               -7.5102     23.887     -0.314      0.756     -56.924      41.904\n",
              "Simple_Multi_Fill_Campaign_1_356                              -21.7061     34.953     -0.621      0.541     -94.013      50.601\n",
              "Simple_Multi_Fill_Campaign_1_357                               -9.2220     28.939     -0.319      0.753     -69.088      50.644\n",
              "Simple_Multi_Fill_Campaign_1_361                               -8.7996     27.214     -0.323      0.749     -65.096      47.497\n",
              "Simple_Multi_Fill_Campaign_1_365                              -19.4009     25.337     -0.766      0.452     -71.815      33.014\n",
              "Simple_Multi_Fill_Campaign_1_368                              -51.5205     25.791     -1.998      0.058    -104.874       1.833\n",
              "Simple_Multi_Fill_Campaign_1_385                              -27.8885     26.189     -1.065      0.298     -82.065      26.288\n",
              "Simple_Multi_Fill_Campaign_1_388                              -17.4113     25.590     -0.680      0.503     -70.348      35.525\n",
              "Simple_Multi_Fill_Campaign_1_415                              -12.3431     28.695     -0.430      0.671     -71.703      47.017\n",
              "Simple_Multi_Fill_Campaign_1_43                               -16.5499     24.861     -0.666      0.512     -67.979      34.879\n",
              "Simple_Multi_Fill_Campaign_1_433                              -26.7462     23.867     -1.121      0.274     -76.118      22.626\n",
              "Simple_Multi_Fill_Campaign_1_440                              -13.7395     25.765     -0.533      0.599     -67.039      39.560\n",
              "Simple_Multi_Fill_Campaign_1_474                               -4.1660     27.096     -0.154      0.879     -60.219      51.887\n",
              "==============================================================================\n",
              "Omnibus:                       15.499   Durbin-Watson:                   1.714\n",
              "Prob(Omnibus):                  0.000   Jarque-Bera (JB):               46.988\n",
              "Skew:                           0.437   Prob(JB):                     6.26e-11\n",
              "Kurtosis:                       6.676   Cond. No.                     1.72e+19\n",
              "==============================================================================\n",
              "\n",
              "Warnings:\n",
              "[1] Standard Errors assume that the covariance matrix of the errors is correctly specified.\n",
              "[2] The smallest eigenvalue is 6.1e-29. This might indicate that there are\n",
              "strong multicollinearity problems or that the design matrix is singular.\n",
              "\"\"\""
            ]
          },
          "metadata": {
            "tags": []
          },
          "execution_count": 109
        }
      ]
    },
    {
      "cell_type": "markdown",
      "metadata": {
        "id": "srwnBZF4QK3d",
        "colab_type": "text"
      },
      "source": [
        "Question 3:\n",
        "Ignoring the Campaign Names, the most important variables are Frequency, Unique Clicks, and Page Engagement. This model has a large r squared value, but the standard error for the campaign names are large and the model should be taken with a grain of salt. Below is a regression with no campaign names and redicting log amount spent, the r-squared lowered by 0.01 points. At the same time, the p-values mostly indicate that only frequency is significant at the 5% level.\n"
      ]
    },
    {
      "cell_type": "code",
      "metadata": {
        "id": "VcBmYjrbBoE6",
        "colab_type": "code",
        "outputId": "f346a22f-8420-49d7-9185-5ddbb9adda35",
        "colab": {
          "base_uri": "https://localhost:8080/",
          "height": 709
        }
      },
      "source": [
        "target = np.log(travelpony[\"Amount Spent (USD)\"])\n",
        "features= list(range(4,9,1))+list(range(10,18,1))\n",
        "xcols = travelpony.iloc[:,features]\n",
        "sm.OLS(target, xcols).fit().summary()"
      ],
      "execution_count": 0,
      "outputs": [
        {
          "output_type": "execute_result",
          "data": {
            "text/html": [
              "<table class=\"simpletable\">\n",
              "<caption>OLS Regression Results</caption>\n",
              "<tr>\n",
              "  <th>Dep. Variable:</th>    <td>Amount Spent (USD)</td> <th>  R-squared (uncentered):</th>      <td>   0.989</td>\n",
              "</tr>\n",
              "<tr>\n",
              "  <th>Model:</th>                    <td>OLS</td>        <th>  Adj. R-squared (uncentered):</th> <td>   0.987</td>\n",
              "</tr>\n",
              "<tr>\n",
              "  <th>Method:</th>              <td>Least Squares</td>   <th>  F-statistic:       </th>          <td>   564.4</td>\n",
              "</tr>\n",
              "<tr>\n",
              "  <th>Date:</th>              <td>Thu, 21 Nov 2019</td>  <th>  Prob (F-statistic):</th>          <td>3.07e-62</td>\n",
              "</tr>\n",
              "<tr>\n",
              "  <th>Time:</th>                  <td>00:16:34</td>      <th>  Log-Likelihood:    </th>          <td> -39.726</td>\n",
              "</tr>\n",
              "<tr>\n",
              "  <th>No. Observations:</th>       <td>    79</td>       <th>  AIC:               </th>          <td>   101.5</td>\n",
              "</tr>\n",
              "<tr>\n",
              "  <th>Df Residuals:</th>           <td>    68</td>       <th>  BIC:               </th>          <td>   127.5</td>\n",
              "</tr>\n",
              "<tr>\n",
              "  <th>Df Model:</th>               <td>    11</td>       <th>                     </th>              <td> </td>   \n",
              "</tr>\n",
              "<tr>\n",
              "  <th>Covariance Type:</th>       <td>nonrobust</td>     <th>                     </th>              <td> </td>   \n",
              "</tr>\n",
              "</table>\n",
              "<table class=\"simpletable\">\n",
              "<tr>\n",
              "         <td></td>            <th>coef</th>     <th>std err</th>      <th>t</th>      <th>P>|t|</th>  <th>[0.025</th>    <th>0.975]</th>  \n",
              "</tr>\n",
              "<tr>\n",
              "  <th>Reach</th>           <td>   -0.0002</td> <td>    0.001</td> <td>   -0.433</td> <td> 0.666</td> <td>   -0.001</td> <td>    0.001</td>\n",
              "</tr>\n",
              "<tr>\n",
              "  <th>Frequency</th>       <td>    2.4622</td> <td>    0.131</td> <td>   18.797</td> <td> 0.000</td> <td>    2.201</td> <td>    2.724</td>\n",
              "</tr>\n",
              "<tr>\n",
              "  <th>Impressions</th>     <td>    0.0003</td> <td>    0.001</td> <td>    0.568</td> <td> 0.572</td> <td>   -0.001</td> <td>    0.001</td>\n",
              "</tr>\n",
              "<tr>\n",
              "  <th>Clicks</th>          <td>    0.0171</td> <td>    0.012</td> <td>    1.408</td> <td> 0.164</td> <td>   -0.007</td> <td>    0.041</td>\n",
              "</tr>\n",
              "<tr>\n",
              "  <th>Unique Clicks</th>   <td>   -0.0100</td> <td>    0.012</td> <td>   -0.857</td> <td> 0.395</td> <td>   -0.033</td> <td>    0.013</td>\n",
              "</tr>\n",
              "<tr>\n",
              "  <th>Page Likes</th>      <td>    0.0041</td> <td>    0.011</td> <td>    0.384</td> <td> 0.702</td> <td>   -0.017</td> <td>    0.026</td>\n",
              "</tr>\n",
              "<tr>\n",
              "  <th>Page Engagement</th> <td>    0.0095</td> <td>    0.006</td> <td>    1.505</td> <td> 0.137</td> <td>   -0.003</td> <td>    0.022</td>\n",
              "</tr>\n",
              "<tr>\n",
              "  <th>Post Engagement</th> <td>    0.0053</td> <td>    0.009</td> <td>    0.573</td> <td> 0.569</td> <td>   -0.013</td> <td>    0.024</td>\n",
              "</tr>\n",
              "<tr>\n",
              "  <th>Post Likes</th>      <td>   -0.0281</td> <td>    0.017</td> <td>   -1.685</td> <td> 0.096</td> <td>   -0.061</td> <td>    0.005</td>\n",
              "</tr>\n",
              "<tr>\n",
              "  <th>Post Comments</th>   <td>    0.0734</td> <td>    0.051</td> <td>    1.437</td> <td> 0.155</td> <td>   -0.029</td> <td>    0.175</td>\n",
              "</tr>\n",
              "<tr>\n",
              "  <th>Post Shares</th>     <td>   -0.0176</td> <td>    0.026</td> <td>   -0.675</td> <td> 0.502</td> <td>   -0.069</td> <td>    0.034</td>\n",
              "</tr>\n",
              "<tr>\n",
              "  <th>Photo Views</th>     <td>   -0.0179</td> <td>    0.012</td> <td>   -1.478</td> <td> 0.144</td> <td>   -0.042</td> <td>    0.006</td>\n",
              "</tr>\n",
              "<tr>\n",
              "  <th>Website Clicks</th>  <td>   -0.0046</td> <td>    0.015</td> <td>   -0.307</td> <td> 0.760</td> <td>   -0.034</td> <td>    0.025</td>\n",
              "</tr>\n",
              "</table>\n",
              "<table class=\"simpletable\">\n",
              "<tr>\n",
              "  <th>Omnibus:</th>       <td> 6.150</td> <th>  Durbin-Watson:     </th> <td>   1.279</td>\n",
              "</tr>\n",
              "<tr>\n",
              "  <th>Prob(Omnibus):</th> <td> 0.046</td> <th>  Jarque-Bera (JB):  </th> <td>   5.392</td>\n",
              "</tr>\n",
              "<tr>\n",
              "  <th>Skew:</th>          <td>-0.577</td> <th>  Prob(JB):          </th> <td>  0.0675</td>\n",
              "</tr>\n",
              "<tr>\n",
              "  <th>Kurtosis:</th>      <td> 3.555</td> <th>  Cond. No.          </th> <td>6.23e+18</td>\n",
              "</tr>\n",
              "</table><br/><br/>Warnings:<br/>[1] Standard Errors assume that the covariance matrix of the errors is correctly specified.<br/>[2] The smallest eigenvalue is 4.66e-28. This might indicate that there are<br/>strong multicollinearity problems or that the design matrix is singular."
            ],
            "text/plain": [
              "<class 'statsmodels.iolib.summary.Summary'>\n",
              "\"\"\"\n",
              "                                 OLS Regression Results                                \n",
              "=======================================================================================\n",
              "Dep. Variable:     Amount Spent (USD)   R-squared (uncentered):                   0.989\n",
              "Model:                            OLS   Adj. R-squared (uncentered):              0.987\n",
              "Method:                 Least Squares   F-statistic:                              564.4\n",
              "Date:                Thu, 21 Nov 2019   Prob (F-statistic):                    3.07e-62\n",
              "Time:                        00:16:34   Log-Likelihood:                         -39.726\n",
              "No. Observations:                  79   AIC:                                      101.5\n",
              "Df Residuals:                      68   BIC:                                      127.5\n",
              "Df Model:                          11                                                  \n",
              "Covariance Type:            nonrobust                                                  \n",
              "===================================================================================\n",
              "                      coef    std err          t      P>|t|      [0.025      0.975]\n",
              "-----------------------------------------------------------------------------------\n",
              "Reach              -0.0002      0.001     -0.433      0.666      -0.001       0.001\n",
              "Frequency           2.4622      0.131     18.797      0.000       2.201       2.724\n",
              "Impressions         0.0003      0.001      0.568      0.572      -0.001       0.001\n",
              "Clicks              0.0171      0.012      1.408      0.164      -0.007       0.041\n",
              "Unique Clicks      -0.0100      0.012     -0.857      0.395      -0.033       0.013\n",
              "Page Likes          0.0041      0.011      0.384      0.702      -0.017       0.026\n",
              "Page Engagement     0.0095      0.006      1.505      0.137      -0.003       0.022\n",
              "Post Engagement     0.0053      0.009      0.573      0.569      -0.013       0.024\n",
              "Post Likes         -0.0281      0.017     -1.685      0.096      -0.061       0.005\n",
              "Post Comments       0.0734      0.051      1.437      0.155      -0.029       0.175\n",
              "Post Shares        -0.0176      0.026     -0.675      0.502      -0.069       0.034\n",
              "Photo Views        -0.0179      0.012     -1.478      0.144      -0.042       0.006\n",
              "Website Clicks     -0.0046      0.015     -0.307      0.760      -0.034       0.025\n",
              "==============================================================================\n",
              "Omnibus:                        6.150   Durbin-Watson:                   1.279\n",
              "Prob(Omnibus):                  0.046   Jarque-Bera (JB):                5.392\n",
              "Skew:                          -0.577   Prob(JB):                       0.0675\n",
              "Kurtosis:                       3.555   Cond. No.                     6.23e+18\n",
              "==============================================================================\n",
              "\n",
              "Warnings:\n",
              "[1] Standard Errors assume that the covariance matrix of the errors is correctly specified.\n",
              "[2] The smallest eigenvalue is 4.66e-28. This might indicate that there are\n",
              "strong multicollinearity problems or that the design matrix is singular.\n",
              "\"\"\""
            ]
          },
          "metadata": {
            "tags": []
          },
          "execution_count": 110
        }
      ]
    },
    {
      "cell_type": "code",
      "metadata": {
        "id": "nQCu1v0OEHiS",
        "colab_type": "code",
        "colab": {}
      },
      "source": [
        ""
      ],
      "execution_count": 0,
      "outputs": []
    }
  ]
}