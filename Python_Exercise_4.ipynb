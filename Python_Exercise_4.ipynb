{
  "nbformat": 4,
  "nbformat_minor": 0,
  "metadata": {
    "colab": {
      "name": "Python Exercise 4.ipynb",
      "provenance": []
    },
    "kernelspec": {
      "name": "python3",
      "display_name": "Python 3"
    }
  },
  "cells": [
    {
      "cell_type": "markdown",
      "metadata": {
        "id": "nMHkmlyasAmr",
        "colab_type": "text"
      },
      "source": [
        "APRD 6342\n",
        "\n",
        "Samuel Statton\n",
        "\n",
        "Python Exercise 4"
      ]
    },
    {
      "cell_type": "markdown",
      "metadata": {
        "id": "dlU5eY4k08pY",
        "colab_type": "text"
      },
      "source": [
        "##Parameters for Organic Coffee\n",
        "\n",
        "1: Income between 50k and 74.5k\n",
        "\n",
        "2: Age betwee 18 and 34\n",
        "\n",
        "3: Hispanic"
      ]
    },
    {
      "cell_type": "code",
      "metadata": {
        "id": "As-v6Xj5r9UR",
        "colab_type": "code",
        "colab": {}
      },
      "source": [
        "import pandas as pd\n",
        "import numpy as np\n",
        "import requests\n",
        "import json"
      ],
      "execution_count": 0,
      "outputs": []
    },
    {
      "cell_type": "code",
      "metadata": {
        "id": "CWNxJvOzshBa",
        "colab_type": "code",
        "outputId": "77a53abe-15cf-493b-db5b-08b44e75ccd8",
        "colab": {
          "base_uri": "https://localhost:8080/",
          "height": 204
        }
      },
      "source": [
        "msas = pd.read_csv(\"https://s3.amazonaws.com/vargo.aprd6342/data/msas.csv\")\n",
        "msas.head()"
      ],
      "execution_count": 0,
      "outputs": [
        {
          "output_type": "execute_result",
          "data": {
            "text/html": [
              "<div>\n",
              "<style scoped>\n",
              "    .dataframe tbody tr th:only-of-type {\n",
              "        vertical-align: middle;\n",
              "    }\n",
              "\n",
              "    .dataframe tbody tr th {\n",
              "        vertical-align: top;\n",
              "    }\n",
              "\n",
              "    .dataframe thead th {\n",
              "        text-align: right;\n",
              "    }\n",
              "</style>\n",
              "<table border=\"1\" class=\"dataframe\">\n",
              "  <thead>\n",
              "    <tr style=\"text-align: right;\">\n",
              "      <th></th>\n",
              "      <th>CBSA</th>\n",
              "      <th>NAME</th>\n",
              "      <th>POPESTIMATE2017</th>\n",
              "    </tr>\n",
              "  </thead>\n",
              "  <tbody>\n",
              "    <tr>\n",
              "      <th>0</th>\n",
              "      <td>10180</td>\n",
              "      <td>Abilene, TX</td>\n",
              "      <td>170219</td>\n",
              "    </tr>\n",
              "    <tr>\n",
              "      <th>1</th>\n",
              "      <td>10420</td>\n",
              "      <td>Akron, OH</td>\n",
              "      <td>703505</td>\n",
              "    </tr>\n",
              "    <tr>\n",
              "      <th>2</th>\n",
              "      <td>10500</td>\n",
              "      <td>Albany, GA</td>\n",
              "      <td>151434</td>\n",
              "    </tr>\n",
              "    <tr>\n",
              "      <th>3</th>\n",
              "      <td>10540</td>\n",
              "      <td>Albany, OR</td>\n",
              "      <td>125047</td>\n",
              "    </tr>\n",
              "    <tr>\n",
              "      <th>4</th>\n",
              "      <td>10580</td>\n",
              "      <td>Albany-Schenectady-Troy, NY</td>\n",
              "      <td>886188</td>\n",
              "    </tr>\n",
              "  </tbody>\n",
              "</table>\n",
              "</div>"
            ],
            "text/plain": [
              "    CBSA                         NAME  POPESTIMATE2017\n",
              "0  10180                  Abilene, TX           170219\n",
              "1  10420                    Akron, OH           703505\n",
              "2  10500                   Albany, GA           151434\n",
              "3  10540                   Albany, OR           125047\n",
              "4  10580  Albany-Schenectady-Troy, NY           886188"
            ]
          },
          "metadata": {
            "tags": []
          },
          "execution_count": 32
        }
      ]
    },
    {
      "cell_type": "code",
      "metadata": {
        "id": "Sdr37nvKs7N_",
        "colab_type": "code",
        "colab": {}
      },
      "source": [
        "tableids = ['B03002', 'B01001', 'B19001']"
      ],
      "execution_count": 0,
      "outputs": []
    },
    {
      "cell_type": "code",
      "metadata": {
        "id": "3iMAQwZsyXoi",
        "colab_type": "code",
        "colab": {}
      },
      "source": [
        "tablestring = ','.join(tableids)"
      ],
      "execution_count": 0,
      "outputs": []
    },
    {
      "cell_type": "code",
      "metadata": {
        "id": "sY5iXjqwuxB_",
        "colab_type": "code",
        "colab": {}
      },
      "source": [
        "requesturl = 'https://api.censusreporter.org/1.0/data/show/latest?table_ids=%s&geo_ids=310|01000US' % tablestring"
      ],
      "execution_count": 0,
      "outputs": []
    },
    {
      "cell_type": "code",
      "metadata": {
        "id": "R9Dt54I2yAy9",
        "colab_type": "code",
        "colab": {}
      },
      "source": [
        "url = requesturl"
      ],
      "execution_count": 0,
      "outputs": []
    },
    {
      "cell_type": "code",
      "metadata": {
        "id": "Fg5qs9Cmu8zJ",
        "colab_type": "code",
        "colab": {}
      },
      "source": [
        "loadedjson = requests.get(url)"
      ],
      "execution_count": 0,
      "outputs": []
    },
    {
      "cell_type": "code",
      "metadata": {
        "id": "YrTL0RBGxpsi",
        "colab_type": "code",
        "colab": {}
      },
      "source": [
        "parsedjson = loadedjson.json()"
      ],
      "execution_count": 0,
      "outputs": []
    },
    {
      "cell_type": "code",
      "metadata": {
        "id": "B0xitve_1ZFh",
        "colab_type": "code",
        "colab": {}
      },
      "source": [
        "## failed function ##\n",
        "def fun(d):\n",
        "    if 'B19001' in d:\n",
        "        data = d.values\n",
        "    for k in d:\n",
        "        if isinstance(d[k], list):\n",
        "            for i in d[k]:\n",
        "                for j in fun(i):\n",
        "                    yield j\n",
        "fun(parsedjson)"
      ],
      "execution_count": 0,
      "outputs": []
    },
    {
      "cell_type": "code",
      "metadata": {
        "id": "Pr7XjW7M-sd2",
        "colab_type": "code",
        "colab": {}
      },
      "source": [
        "income = pd.DataFrame({ 'income_50k': { id_: data['B19001']['estimate']['B19001011'] for id_, data in parsedjson['data'].items() }})\n",
        "hispanic = pd.DataFrame({ 'hispanic': { id_: data['B03002']['estimate']['B03002012'] for id_, data in parsedjson['data'].items() }})\n",
        "age = pd.DataFrame({ '18 to 34 years': { id_: data['B01001']['estimate']['B01001001'] for id_, data in parsedjson['data'].items() }})\n"
      ],
      "execution_count": 0,
      "outputs": []
    },
    {
      "cell_type": "code",
      "metadata": {
        "id": "X6EI3KEGtqtB",
        "colab_type": "code",
        "outputId": "55f74acb-1c54-4a61-dc26-51df90cc022c",
        "colab": {
          "base_uri": "https://localhost:8080/",
          "height": 204
        }
      },
      "source": [
        "df = income.merge(hispanic, how='outer',left_index=True, right_index=True)\n",
        "df = df.merge(age, how='outer', left_index=True, right_index=True)\n",
        "df.head()"
      ],
      "execution_count": 0,
      "outputs": [
        {
          "output_type": "execute_result",
          "data": {
            "text/html": [
              "<div>\n",
              "<style scoped>\n",
              "    .dataframe tbody tr th:only-of-type {\n",
              "        vertical-align: middle;\n",
              "    }\n",
              "\n",
              "    .dataframe tbody tr th {\n",
              "        vertical-align: top;\n",
              "    }\n",
              "\n",
              "    .dataframe thead th {\n",
              "        text-align: right;\n",
              "    }\n",
              "</style>\n",
              "<table border=\"1\" class=\"dataframe\">\n",
              "  <thead>\n",
              "    <tr style=\"text-align: right;\">\n",
              "      <th></th>\n",
              "      <th>income_50k</th>\n",
              "      <th>hispanic</th>\n",
              "      <th>18 to 34 years</th>\n",
              "    </tr>\n",
              "  </thead>\n",
              "  <tbody>\n",
              "    <tr>\n",
              "      <th>31000US10100</th>\n",
              "      <td>1479.0</td>\n",
              "      <td>1020.0</td>\n",
              "      <td>42608.0</td>\n",
              "    </tr>\n",
              "    <tr>\n",
              "      <th>31000US10140</th>\n",
              "      <td>1938.0</td>\n",
              "      <td>6978.0</td>\n",
              "      <td>71454.0</td>\n",
              "    </tr>\n",
              "    <tr>\n",
              "      <th>31000US10180</th>\n",
              "      <td>5409.0</td>\n",
              "      <td>38892.0</td>\n",
              "      <td>169000.0</td>\n",
              "    </tr>\n",
              "    <tr>\n",
              "      <th>31000US10220</th>\n",
              "      <td>1258.0</td>\n",
              "      <td>1944.0</td>\n",
              "      <td>38289.0</td>\n",
              "    </tr>\n",
              "    <tr>\n",
              "      <th>31000US10260</th>\n",
              "      <td>192.0</td>\n",
              "      <td>18459.0</td>\n",
              "      <td>18525.0</td>\n",
              "    </tr>\n",
              "  </tbody>\n",
              "</table>\n",
              "</div>"
            ],
            "text/plain": [
              "              income_50k  hispanic  18 to 34 years\n",
              "31000US10100      1479.0    1020.0         42608.0\n",
              "31000US10140      1938.0    6978.0         71454.0\n",
              "31000US10180      5409.0   38892.0        169000.0\n",
              "31000US10220      1258.0    1944.0         38289.0\n",
              "31000US10260       192.0   18459.0         18525.0"
            ]
          },
          "metadata": {
            "tags": []
          },
          "execution_count": 118
        }
      ]
    },
    {
      "cell_type": "markdown",
      "metadata": {
        "id": "mlr7pJHgwluL",
        "colab_type": "text"
      },
      "source": [
        "##Question 1:\n"
      ]
    },
    {
      "cell_type": "code",
      "metadata": {
        "id": "q1s2uGO1_XJV",
        "colab_type": "code",
        "outputId": "abc15039-57eb-47ad-880e-54b13adb056d",
        "colab": {
          "base_uri": "https://localhost:8080/",
          "height": 204
        }
      },
      "source": [
        "df.sort_values(by='income_50k', ascending=False).head()"
      ],
      "execution_count": 0,
      "outputs": [
        {
          "output_type": "execute_result",
          "data": {
            "text/html": [
              "<div>\n",
              "<style scoped>\n",
              "    .dataframe tbody tr th:only-of-type {\n",
              "        vertical-align: middle;\n",
              "    }\n",
              "\n",
              "    .dataframe tbody tr th {\n",
              "        vertical-align: top;\n",
              "    }\n",
              "\n",
              "    .dataframe thead th {\n",
              "        text-align: right;\n",
              "    }\n",
              "</style>\n",
              "<table border=\"1\" class=\"dataframe\">\n",
              "  <thead>\n",
              "    <tr style=\"text-align: right;\">\n",
              "      <th></th>\n",
              "      <th>income_50k</th>\n",
              "      <th>hispanic</th>\n",
              "      <th>18 to 34 years</th>\n",
              "    </tr>\n",
              "  </thead>\n",
              "  <tbody>\n",
              "    <tr>\n",
              "      <th>31000US35620</th>\n",
              "      <td>444453.0</td>\n",
              "      <td>4863602.0</td>\n",
              "      <td>20192042.0</td>\n",
              "    </tr>\n",
              "    <tr>\n",
              "      <th>31000US31080</th>\n",
              "      <td>300860.0</td>\n",
              "      <td>5972751.0</td>\n",
              "      <td>13261538.0</td>\n",
              "    </tr>\n",
              "    <tr>\n",
              "      <th>31000US16980</th>\n",
              "      <td>250089.0</td>\n",
              "      <td>2081524.0</td>\n",
              "      <td>9549229.0</td>\n",
              "    </tr>\n",
              "    <tr>\n",
              "      <th>31000US19100</th>\n",
              "      <td>199823.0</td>\n",
              "      <td>2018504.0</td>\n",
              "      <td>7104415.0</td>\n",
              "    </tr>\n",
              "    <tr>\n",
              "      <th>31000US26420</th>\n",
              "      <td>172121.0</td>\n",
              "      <td>2432651.0</td>\n",
              "      <td>6636208.0</td>\n",
              "    </tr>\n",
              "  </tbody>\n",
              "</table>\n",
              "</div>"
            ],
            "text/plain": [
              "              income_50k   hispanic  18 to 34 years\n",
              "31000US35620    444453.0  4863602.0      20192042.0\n",
              "31000US31080    300860.0  5972751.0      13261538.0\n",
              "31000US16980    250089.0  2081524.0       9549229.0\n",
              "31000US19100    199823.0  2018504.0       7104415.0\n",
              "31000US26420    172121.0  2432651.0       6636208.0"
            ]
          },
          "metadata": {
            "tags": []
          },
          "execution_count": 58
        }
      ]
    },
    {
      "cell_type": "code",
      "metadata": {
        "id": "dZEmWV8nsJC2",
        "colab_type": "code",
        "outputId": "aedfa8e0-157c-4958-df73-47a9ebad0536",
        "colab": {
          "base_uri": "https://localhost:8080/",
          "height": 51
        }
      },
      "source": [
        "msas.loc[msas['CBSA'] == 35620, 'NAME']"
      ],
      "execution_count": 0,
      "outputs": [
        {
          "output_type": "execute_result",
          "data": {
            "text/plain": [
              "249    New York-Newark-Jersey City, NY-NJ-PA\n",
              "Name: NAME, dtype: object"
            ]
          },
          "metadata": {
            "tags": []
          },
          "execution_count": 34
        }
      ]
    },
    {
      "cell_type": "markdown",
      "metadata": {
        "id": "bBQv14HAwqNB",
        "colab_type": "text"
      },
      "source": [
        "New York-Newark-Jersey City is the highest population with households between 50k and 74.9k."
      ]
    },
    {
      "cell_type": "markdown",
      "metadata": {
        "id": "C2-sucjyw2Yn",
        "colab_type": "text"
      },
      "source": [
        "##Question 2:"
      ]
    },
    {
      "cell_type": "code",
      "metadata": {
        "id": "liM57pj9rc3y",
        "colab_type": "code",
        "outputId": "19df13c1-894e-45f5-8028-35345e6e9ff2",
        "colab": {
          "base_uri": "https://localhost:8080/",
          "height": 204
        }
      },
      "source": [
        "df.sort_values(by='hispanic', ascending=False).head()"
      ],
      "execution_count": 0,
      "outputs": [
        {
          "output_type": "execute_result",
          "data": {
            "text/html": [
              "<div>\n",
              "<style scoped>\n",
              "    .dataframe tbody tr th:only-of-type {\n",
              "        vertical-align: middle;\n",
              "    }\n",
              "\n",
              "    .dataframe tbody tr th {\n",
              "        vertical-align: top;\n",
              "    }\n",
              "\n",
              "    .dataframe thead th {\n",
              "        text-align: right;\n",
              "    }\n",
              "</style>\n",
              "<table border=\"1\" class=\"dataframe\">\n",
              "  <thead>\n",
              "    <tr style=\"text-align: right;\">\n",
              "      <th></th>\n",
              "      <th>income_50k</th>\n",
              "      <th>hispanic</th>\n",
              "      <th>18 to 34 years</th>\n",
              "    </tr>\n",
              "  </thead>\n",
              "  <tbody>\n",
              "    <tr>\n",
              "      <th>31000US31080</th>\n",
              "      <td>300860.0</td>\n",
              "      <td>5972751.0</td>\n",
              "      <td>13261538.0</td>\n",
              "    </tr>\n",
              "    <tr>\n",
              "      <th>31000US35620</th>\n",
              "      <td>444453.0</td>\n",
              "      <td>4863602.0</td>\n",
              "      <td>20192042.0</td>\n",
              "    </tr>\n",
              "    <tr>\n",
              "      <th>31000US33100</th>\n",
              "      <td>158933.0</td>\n",
              "      <td>2663235.0</td>\n",
              "      <td>6019790.0</td>\n",
              "    </tr>\n",
              "    <tr>\n",
              "      <th>31000US26420</th>\n",
              "      <td>172121.0</td>\n",
              "      <td>2432651.0</td>\n",
              "      <td>6636208.0</td>\n",
              "    </tr>\n",
              "    <tr>\n",
              "      <th>31000US40140</th>\n",
              "      <td>104313.0</td>\n",
              "      <td>2239029.0</td>\n",
              "      <td>4476222.0</td>\n",
              "    </tr>\n",
              "  </tbody>\n",
              "</table>\n",
              "</div>"
            ],
            "text/plain": [
              "              income_50k   hispanic  18 to 34 years\n",
              "31000US31080    300860.0  5972751.0      13261538.0\n",
              "31000US35620    444453.0  4863602.0      20192042.0\n",
              "31000US33100    158933.0  2663235.0       6019790.0\n",
              "31000US26420    172121.0  2432651.0       6636208.0\n",
              "31000US40140    104313.0  2239029.0       4476222.0"
            ]
          },
          "metadata": {
            "tags": []
          },
          "execution_count": 59
        }
      ]
    },
    {
      "cell_type": "code",
      "metadata": {
        "id": "ZR6Umr4Qs61h",
        "colab_type": "code",
        "outputId": "7eab32bf-6ea8-457f-cda0-ebf512eb0b27",
        "colab": {
          "base_uri": "https://localhost:8080/",
          "height": 51
        }
      },
      "source": [
        "msas.loc[msas['CBSA'] == 31080, 'NAME']"
      ],
      "execution_count": 0,
      "outputs": [
        {
          "output_type": "execute_result",
          "data": {
            "text/plain": [
              "210    Los Angeles-Long Beach-Anaheim, CA\n",
              "Name: NAME, dtype: object"
            ]
          },
          "metadata": {
            "tags": []
          },
          "execution_count": 60
        }
      ]
    },
    {
      "cell_type": "markdown",
      "metadata": {
        "id": "HSIRimsIw45q",
        "colab_type": "text"
      },
      "source": [
        "Los Angeles-Long Beach-Anaheim is the city with the most Hispanics"
      ]
    },
    {
      "cell_type": "markdown",
      "metadata": {
        "id": "Z5WJ5Xyrw_KD",
        "colab_type": "text"
      },
      "source": [
        "##Question 3:"
      ]
    },
    {
      "cell_type": "code",
      "metadata": {
        "id": "iRMz_mG5rfUS",
        "colab_type": "code",
        "outputId": "04aebc13-8ce3-4e33-8d7d-ca334a168272",
        "colab": {
          "base_uri": "https://localhost:8080/",
          "height": 204
        }
      },
      "source": [
        "df.sort_values(by='18 to 34 years', ascending=False).head()"
      ],
      "execution_count": 0,
      "outputs": [
        {
          "output_type": "execute_result",
          "data": {
            "text/html": [
              "<div>\n",
              "<style scoped>\n",
              "    .dataframe tbody tr th:only-of-type {\n",
              "        vertical-align: middle;\n",
              "    }\n",
              "\n",
              "    .dataframe tbody tr th {\n",
              "        vertical-align: top;\n",
              "    }\n",
              "\n",
              "    .dataframe thead th {\n",
              "        text-align: right;\n",
              "    }\n",
              "</style>\n",
              "<table border=\"1\" class=\"dataframe\">\n",
              "  <thead>\n",
              "    <tr style=\"text-align: right;\">\n",
              "      <th></th>\n",
              "      <th>income_50k</th>\n",
              "      <th>hispanic</th>\n",
              "      <th>18 to 34 years</th>\n",
              "    </tr>\n",
              "  </thead>\n",
              "  <tbody>\n",
              "    <tr>\n",
              "      <th>31000US35620</th>\n",
              "      <td>444453.0</td>\n",
              "      <td>4863602.0</td>\n",
              "      <td>20192042.0</td>\n",
              "    </tr>\n",
              "    <tr>\n",
              "      <th>31000US31080</th>\n",
              "      <td>300860.0</td>\n",
              "      <td>5972751.0</td>\n",
              "      <td>13261538.0</td>\n",
              "    </tr>\n",
              "    <tr>\n",
              "      <th>31000US16980</th>\n",
              "      <td>250089.0</td>\n",
              "      <td>2081524.0</td>\n",
              "      <td>9549229.0</td>\n",
              "    </tr>\n",
              "    <tr>\n",
              "      <th>31000US19100</th>\n",
              "      <td>199823.0</td>\n",
              "      <td>2018504.0</td>\n",
              "      <td>7104415.0</td>\n",
              "    </tr>\n",
              "    <tr>\n",
              "      <th>31000US26420</th>\n",
              "      <td>172121.0</td>\n",
              "      <td>2432651.0</td>\n",
              "      <td>6636208.0</td>\n",
              "    </tr>\n",
              "  </tbody>\n",
              "</table>\n",
              "</div>"
            ],
            "text/plain": [
              "              income_50k   hispanic  18 to 34 years\n",
              "31000US35620    444453.0  4863602.0      20192042.0\n",
              "31000US31080    300860.0  5972751.0      13261538.0\n",
              "31000US16980    250089.0  2081524.0       9549229.0\n",
              "31000US19100    199823.0  2018504.0       7104415.0\n",
              "31000US26420    172121.0  2432651.0       6636208.0"
            ]
          },
          "metadata": {
            "tags": []
          },
          "execution_count": 61
        }
      ]
    },
    {
      "cell_type": "code",
      "metadata": {
        "id": "TGM4uBiFrg3e",
        "colab_type": "code",
        "outputId": "0e10ad49-9ae4-4c93-e73b-9c329668bc3d",
        "colab": {
          "base_uri": "https://localhost:8080/",
          "height": 51
        }
      },
      "source": [
        "msas.loc[msas['CBSA'] == 35620, 'NAME']"
      ],
      "execution_count": 0,
      "outputs": [
        {
          "output_type": "execute_result",
          "data": {
            "text/plain": [
              "249    New York-Newark-Jersey City, NY-NJ-PA\n",
              "Name: NAME, dtype: object"
            ]
          },
          "metadata": {
            "tags": []
          },
          "execution_count": 62
        }
      ]
    },
    {
      "cell_type": "markdown",
      "metadata": {
        "id": "U_SlKrDYxA-g",
        "colab_type": "text"
      },
      "source": [
        "New York-Newark-Jersey city has the msot people 18-34 years old."
      ]
    },
    {
      "cell_type": "markdown",
      "metadata": {
        "id": "1b6U8gfaxInE",
        "colab_type": "text"
      },
      "source": [
        "## Question 4:"
      ]
    },
    {
      "cell_type": "code",
      "metadata": {
        "id": "5cQUxTJ7tAV4",
        "colab_type": "code",
        "colab": {}
      },
      "source": [
        "df['income'] = ''\n",
        "df['ethnicity'] = ''\n",
        "df['age'] = ''\n",
        "df['mean_parameter'] = ''\n",
        "\n",
        "for i in range(len(df)):\n",
        "  df['income'].values[i] = df.iloc[i,0]/sum(df.iloc[:,0])\n",
        "  df['ethnicity'].values[i] = df.iloc[i,1]/sum(df.iloc[:,1])\n",
        "  df['age'].values[i] = df.iloc[i,2]/sum(df.iloc[:,2])\n",
        "\n",
        "df['mean_parameter'] = df[['income','ethnicity','age']].mean(axis=1)"
      ],
      "execution_count": 0,
      "outputs": []
    },
    {
      "cell_type": "code",
      "metadata": {
        "id": "byJ4hYBf1y3k",
        "colab_type": "code",
        "outputId": "66ff9a00-ee43-454c-d19b-d6743a4efc03",
        "colab": {
          "base_uri": "https://localhost:8080/",
          "height": 419
        }
      },
      "source": [
        "df.sort_values(by='mean_parameter',ascending=False)"
      ],
      "execution_count": 0,
      "outputs": [
        {
          "output_type": "execute_result",
          "data": {
            "text/html": [
              "<div>\n",
              "<style scoped>\n",
              "    .dataframe tbody tr th:only-of-type {\n",
              "        vertical-align: middle;\n",
              "    }\n",
              "\n",
              "    .dataframe tbody tr th {\n",
              "        vertical-align: top;\n",
              "    }\n",
              "\n",
              "    .dataframe thead th {\n",
              "        text-align: right;\n",
              "    }\n",
              "</style>\n",
              "<table border=\"1\" class=\"dataframe\">\n",
              "  <thead>\n",
              "    <tr style=\"text-align: right;\">\n",
              "      <th></th>\n",
              "      <th>income_50k</th>\n",
              "      <th>hispanic</th>\n",
              "      <th>18 to 34 years</th>\n",
              "      <th>income</th>\n",
              "      <th>ethnicity</th>\n",
              "      <th>age</th>\n",
              "      <th>mean_parameter</th>\n",
              "    </tr>\n",
              "  </thead>\n",
              "  <tbody>\n",
              "    <tr>\n",
              "      <th>31000US35620</th>\n",
              "      <td>444453.0</td>\n",
              "      <td>4863602.0</td>\n",
              "      <td>20192042.0</td>\n",
              "      <td>0.0514338</td>\n",
              "      <td>0.0828389</td>\n",
              "      <td>0.0659695</td>\n",
              "      <td>0.066747</td>\n",
              "    </tr>\n",
              "    <tr>\n",
              "      <th>31000US31080</th>\n",
              "      <td>300860.0</td>\n",
              "      <td>5972751.0</td>\n",
              "      <td>13261538.0</td>\n",
              "      <td>0.0348167</td>\n",
              "      <td>0.10173</td>\n",
              "      <td>0.0433268</td>\n",
              "      <td>0.059958</td>\n",
              "    </tr>\n",
              "    <tr>\n",
              "      <th>31000US16980</th>\n",
              "      <td>250089.0</td>\n",
              "      <td>2081524.0</td>\n",
              "      <td>9549229.0</td>\n",
              "      <td>0.0289413</td>\n",
              "      <td>0.0354534</td>\n",
              "      <td>0.0311983</td>\n",
              "      <td>0.031864</td>\n",
              "    </tr>\n",
              "    <tr>\n",
              "      <th>31000US33100</th>\n",
              "      <td>158933.0</td>\n",
              "      <td>2663235.0</td>\n",
              "      <td>6019790.0</td>\n",
              "      <td>0.0183923</td>\n",
              "      <td>0.0453613</td>\n",
              "      <td>0.0196673</td>\n",
              "      <td>0.027807</td>\n",
              "    </tr>\n",
              "    <tr>\n",
              "      <th>31000US26420</th>\n",
              "      <td>172121.0</td>\n",
              "      <td>2432651.0</td>\n",
              "      <td>6636208.0</td>\n",
              "      <td>0.0199185</td>\n",
              "      <td>0.0414339</td>\n",
              "      <td>0.0216812</td>\n",
              "      <td>0.027678</td>\n",
              "    </tr>\n",
              "    <tr>\n",
              "      <th>...</th>\n",
              "      <td>...</td>\n",
              "      <td>...</td>\n",
              "      <td>...</td>\n",
              "      <td>...</td>\n",
              "      <td>...</td>\n",
              "      <td>...</td>\n",
              "      <td>...</td>\n",
              "    </tr>\n",
              "    <tr>\n",
              "      <th>31000US18780</th>\n",
              "      <td>356.0</td>\n",
              "      <td>1948.0</td>\n",
              "      <td>13056.0</td>\n",
              "      <td>4.11977e-05</td>\n",
              "      <td>3.31792e-05</td>\n",
              "      <td>4.26553e-05</td>\n",
              "      <td>0.000039</td>\n",
              "    </tr>\n",
              "    <tr>\n",
              "      <th>31000US28540</th>\n",
              "      <td>513.0</td>\n",
              "      <td>655.0</td>\n",
              "      <td>13745.0</td>\n",
              "      <td>5.93663e-05</td>\n",
              "      <td>1.11562e-05</td>\n",
              "      <td>4.49063e-05</td>\n",
              "      <td>0.000038</td>\n",
              "    </tr>\n",
              "    <tr>\n",
              "      <th>31000US47240</th>\n",
              "      <td>435.0</td>\n",
              "      <td>280.0</td>\n",
              "      <td>17275.0</td>\n",
              "      <td>5.03399e-05</td>\n",
              "      <td>4.76908e-06</td>\n",
              "      <td>5.64392e-05</td>\n",
              "      <td>0.000037</td>\n",
              "    </tr>\n",
              "    <tr>\n",
              "      <th>31000US32500</th>\n",
              "      <td>442.0</td>\n",
              "      <td>126.0</td>\n",
              "      <td>17167.0</td>\n",
              "      <td>5.11499e-05</td>\n",
              "      <td>2.14609e-06</td>\n",
              "      <td>5.60864e-05</td>\n",
              "      <td>0.000036</td>\n",
              "    </tr>\n",
              "    <tr>\n",
              "      <th>31000US46820</th>\n",
              "      <td>459.0</td>\n",
              "      <td>381.0</td>\n",
              "      <td>13907.0</td>\n",
              "      <td>5.31172e-05</td>\n",
              "      <td>6.48935e-06</td>\n",
              "      <td>4.54356e-05</td>\n",
              "      <td>0.000035</td>\n",
              "    </tr>\n",
              "  </tbody>\n",
              "</table>\n",
              "<p>945 rows × 7 columns</p>\n",
              "</div>"
            ],
            "text/plain": [
              "              income_50k   hispanic  ...          age mean_parameter\n",
              "31000US35620    444453.0  4863602.0  ...    0.0659695       0.066747\n",
              "31000US31080    300860.0  5972751.0  ...    0.0433268       0.059958\n",
              "31000US16980    250089.0  2081524.0  ...    0.0311983       0.031864\n",
              "31000US33100    158933.0  2663235.0  ...    0.0196673       0.027807\n",
              "31000US26420    172121.0  2432651.0  ...    0.0216812       0.027678\n",
              "...                  ...        ...  ...          ...            ...\n",
              "31000US18780       356.0     1948.0  ...  4.26553e-05       0.000039\n",
              "31000US28540       513.0      655.0  ...  4.49063e-05       0.000038\n",
              "31000US47240       435.0      280.0  ...  5.64392e-05       0.000037\n",
              "31000US32500       442.0      126.0  ...  5.60864e-05       0.000036\n",
              "31000US46820       459.0      381.0  ...  4.54356e-05       0.000035\n",
              "\n",
              "[945 rows x 7 columns]"
            ]
          },
          "metadata": {
            "tags": []
          },
          "execution_count": 125
        }
      ]
    },
    {
      "cell_type": "markdown",
      "metadata": {
        "id": "VKCuZt6k4XE2",
        "colab_type": "text"
      },
      "source": [
        "New York-Neward-New Jersey is the city with the highest mean followed by Los Angeles"
      ]
    }
  ]
}