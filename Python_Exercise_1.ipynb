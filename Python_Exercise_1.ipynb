{
  "nbformat": 4,
  "nbformat_minor": 0,
  "metadata": {
    "colab": {
      "name": "Python Exercise 1.ipynb",
      "provenance": []
    },
    "kernelspec": {
      "name": "python3",
      "display_name": "Python 3"
    }
  },
  "cells": [
    {
      "cell_type": "markdown",
      "metadata": {
        "id": "Yk9X9lt1wwM4",
        "colab_type": "text"
      },
      "source": [
        "Python Exercise 1: Samuel Statton"
      ]
    },
    {
      "cell_type": "code",
      "metadata": {
        "id": "67xVvN-Hu0Tl",
        "colab_type": "code",
        "colab": {}
      },
      "source": [
        "import pandas as pd\n",
        "import statsmodels.api as sm \n",
        "import datetime \n",
        "\n",
        "DATA_URL = 'http://128.138.93.164/aprd6342/data/TravelPonyFacebook.csv'\n",
        "travelpony = pd.read_csv(DATA_URL)"
      ],
      "execution_count": 0,
      "outputs": []
    },
    {
      "cell_type": "markdown",
      "metadata": {
        "id": "o1INUS93wry5",
        "colab_type": "text"
      },
      "source": [
        "Question 1:"
      ]
    },
    {
      "cell_type": "code",
      "metadata": {
        "id": "o3wr8-J7wE5M",
        "colab_type": "code",
        "outputId": "b3080c01-ad6b-490d-b938-0570dbc5b80d",
        "colab": {
          "base_uri": "https://localhost:8080/",
          "height": 170
        }
      },
      "source": [
        "## Creating CPI Column ##\n",
        "travelpony['Cost per Impression'] = travelpony['Amount Spent (USD)']/travelpony['Impressions']\n",
        "\n",
        "## Creating Weekday Column ##\n",
        "travelpony['Start Date'] = pd.to_datetime(travelpony['Start Date'])\n",
        "travelpony['Weekday'] = travelpony['Start Date'].dt.day_name()\n",
        "\n",
        "## Group by Weekday ##\n",
        "travelpony.groupby(['Weekday'])['Cost per Impression'].mean()"
      ],
      "execution_count": 0,
      "outputs": [
        {
          "output_type": "execute_result",
          "data": {
            "text/plain": [
              "Weekday\n",
              "Friday       0.004097\n",
              "Monday       0.002910\n",
              "Saturday     0.002629\n",
              "Sunday       0.003688\n",
              "Thursday     0.003398\n",
              "Tuesday      0.003040\n",
              "Wednesday    0.002981\n",
              "Name: Cost per Impression, dtype: float64"
            ]
          },
          "metadata": {
            "tags": []
          },
          "execution_count": 3
        }
      ]
    },
    {
      "cell_type": "markdown",
      "metadata": {
        "id": "aMOC8zrhDLbF",
        "colab_type": "text"
      },
      "source": [
        "Question 2:"
      ]
    },
    {
      "cell_type": "code",
      "metadata": {
        "id": "z5ZOU25v0-2J",
        "colab_type": "code",
        "outputId": "dd4827fa-797b-493c-d989-97e8e8229733",
        "colab": {
          "base_uri": "https://localhost:8080/",
          "height": 204
        }
      },
      "source": [
        "## Correlations ##\n",
        "(travelpony[['Amount Spent (USD)', 'Reach', 'Frequency', 'Unique Clicks', 'Page Likes']].corr())"
      ],
      "execution_count": 0,
      "outputs": [
        {
          "output_type": "execute_result",
          "data": {
            "text/html": [
              "<div>\n",
              "<style scoped>\n",
              "    .dataframe tbody tr th:only-of-type {\n",
              "        vertical-align: middle;\n",
              "    }\n",
              "\n",
              "    .dataframe tbody tr th {\n",
              "        vertical-align: top;\n",
              "    }\n",
              "\n",
              "    .dataframe thead th {\n",
              "        text-align: right;\n",
              "    }\n",
              "</style>\n",
              "<table border=\"1\" class=\"dataframe\">\n",
              "  <thead>\n",
              "    <tr style=\"text-align: right;\">\n",
              "      <th></th>\n",
              "      <th>Amount Spent (USD)</th>\n",
              "      <th>Reach</th>\n",
              "      <th>Frequency</th>\n",
              "      <th>Unique Clicks</th>\n",
              "      <th>Page Likes</th>\n",
              "    </tr>\n",
              "  </thead>\n",
              "  <tbody>\n",
              "    <tr>\n",
              "      <th>Amount Spent (USD)</th>\n",
              "      <td>1.000000</td>\n",
              "      <td>0.703124</td>\n",
              "      <td>0.130201</td>\n",
              "      <td>0.882993</td>\n",
              "      <td>0.757612</td>\n",
              "    </tr>\n",
              "    <tr>\n",
              "      <th>Reach</th>\n",
              "      <td>0.703124</td>\n",
              "      <td>1.000000</td>\n",
              "      <td>0.334101</td>\n",
              "      <td>0.722249</td>\n",
              "      <td>0.304388</td>\n",
              "    </tr>\n",
              "    <tr>\n",
              "      <th>Frequency</th>\n",
              "      <td>0.130201</td>\n",
              "      <td>0.334101</td>\n",
              "      <td>1.000000</td>\n",
              "      <td>0.135103</td>\n",
              "      <td>0.000182</td>\n",
              "    </tr>\n",
              "    <tr>\n",
              "      <th>Unique Clicks</th>\n",
              "      <td>0.882993</td>\n",
              "      <td>0.722249</td>\n",
              "      <td>0.135103</td>\n",
              "      <td>1.000000</td>\n",
              "      <td>0.584614</td>\n",
              "    </tr>\n",
              "    <tr>\n",
              "      <th>Page Likes</th>\n",
              "      <td>0.757612</td>\n",
              "      <td>0.304388</td>\n",
              "      <td>0.000182</td>\n",
              "      <td>0.584614</td>\n",
              "      <td>1.000000</td>\n",
              "    </tr>\n",
              "  </tbody>\n",
              "</table>\n",
              "</div>"
            ],
            "text/plain": [
              "                    Amount Spent (USD)     Reach  ...  Unique Clicks  Page Likes\n",
              "Amount Spent (USD)            1.000000  0.703124  ...       0.882993    0.757612\n",
              "Reach                         0.703124  1.000000  ...       0.722249    0.304388\n",
              "Frequency                     0.130201  0.334101  ...       0.135103    0.000182\n",
              "Unique Clicks                 0.882993  0.722249  ...       1.000000    0.584614\n",
              "Page Likes                    0.757612  0.304388  ...       0.584614    1.000000\n",
              "\n",
              "[5 rows x 5 columns]"
            ]
          },
          "metadata": {
            "tags": []
          },
          "execution_count": 4
        }
      ]
    },
    {
      "cell_type": "markdown",
      "metadata": {
        "id": "k7_xHePoDXGp",
        "colab_type": "text"
      },
      "source": [
        "Question 3: "
      ]
    },
    {
      "cell_type": "code",
      "metadata": {
        "id": "nl2iTL_-15ah",
        "colab_type": "code",
        "outputId": "93e4fa26-3ea1-4564-a080-9aa2570ba493",
        "colab": {
          "base_uri": "https://localhost:8080/",
          "height": 423
        }
      },
      "source": [
        "## Single Regression ##\n",
        "model_1 = sm.OLS(travelpony['Unique Clicks'], travelpony['Reach'])\n",
        "model_1.fit().summary()\n",
        "\n",
        "## Gives a baseline R-square value without frequency included in the model ##"
      ],
      "execution_count": 0,
      "outputs": [
        {
          "output_type": "execute_result",
          "data": {
            "text/html": [
              "<table class=\"simpletable\">\n",
              "<caption>OLS Regression Results</caption>\n",
              "<tr>\n",
              "  <th>Dep. Variable:</th>      <td>Unique Clicks</td>  <th>  R-squared (uncentered):</th>      <td>   0.539</td> \n",
              "</tr>\n",
              "<tr>\n",
              "  <th>Model:</th>                   <td>OLS</td>       <th>  Adj. R-squared (uncentered):</th> <td>   0.539</td> \n",
              "</tr>\n",
              "<tr>\n",
              "  <th>Method:</th>             <td>Least Squares</td>  <th>  F-statistic:       </th>          <td>   4334.</td> \n",
              "</tr>\n",
              "<tr>\n",
              "  <th>Date:</th>             <td>Wed, 13 Nov 2019</td> <th>  Prob (F-statistic):</th>           <td>  0.00</td>  \n",
              "</tr>\n",
              "<tr>\n",
              "  <th>Time:</th>                 <td>23:52:17</td>     <th>  Log-Likelihood:    </th>          <td> -16045.</td> \n",
              "</tr>\n",
              "<tr>\n",
              "  <th>No. Observations:</th>      <td>  3705</td>      <th>  AIC:               </th>          <td>3.209e+04</td>\n",
              "</tr>\n",
              "<tr>\n",
              "  <th>Df Residuals:</th>          <td>  3704</td>      <th>  BIC:               </th>          <td>3.210e+04</td>\n",
              "</tr>\n",
              "<tr>\n",
              "  <th>Df Model:</th>              <td>     1</td>      <th>                     </th>              <td> </td>    \n",
              "</tr>\n",
              "<tr>\n",
              "  <th>Covariance Type:</th>      <td>nonrobust</td>    <th>                     </th>              <td> </td>    \n",
              "</tr>\n",
              "</table>\n",
              "<table class=\"simpletable\">\n",
              "<tr>\n",
              "    <td></td>       <th>coef</th>     <th>std err</th>      <th>t</th>      <th>P>|t|</th>  <th>[0.025</th>    <th>0.975]</th>  \n",
              "</tr>\n",
              "<tr>\n",
              "  <th>Reach</th> <td>    0.0020</td> <td> 3.09e-05</td> <td>   65.832</td> <td> 0.000</td> <td>    0.002</td> <td>    0.002</td>\n",
              "</tr>\n",
              "</table>\n",
              "<table class=\"simpletable\">\n",
              "<tr>\n",
              "  <th>Omnibus:</th>       <td>4800.065</td> <th>  Durbin-Watson:     </th>  <td>   0.762</td>  \n",
              "</tr>\n",
              "<tr>\n",
              "  <th>Prob(Omnibus):</th>  <td> 0.000</td>  <th>  Jarque-Bera (JB):  </th> <td>5192547.294</td>\n",
              "</tr>\n",
              "<tr>\n",
              "  <th>Skew:</th>           <td> 6.420</td>  <th>  Prob(JB):          </th>  <td>    0.00</td>  \n",
              "</tr>\n",
              "<tr>\n",
              "  <th>Kurtosis:</th>       <td>185.951</td> <th>  Cond. No.          </th>  <td>    1.00</td>  \n",
              "</tr>\n",
              "</table><br/><br/>Warnings:<br/>[1] Standard Errors assume that the covariance matrix of the errors is correctly specified."
            ],
            "text/plain": [
              "<class 'statsmodels.iolib.summary.Summary'>\n",
              "\"\"\"\n",
              "                                 OLS Regression Results                                \n",
              "=======================================================================================\n",
              "Dep. Variable:          Unique Clicks   R-squared (uncentered):                   0.539\n",
              "Model:                            OLS   Adj. R-squared (uncentered):              0.539\n",
              "Method:                 Least Squares   F-statistic:                              4334.\n",
              "Date:                Wed, 13 Nov 2019   Prob (F-statistic):                        0.00\n",
              "Time:                        23:52:17   Log-Likelihood:                         -16045.\n",
              "No. Observations:                3705   AIC:                                  3.209e+04\n",
              "Df Residuals:                    3704   BIC:                                  3.210e+04\n",
              "Df Model:                           1                                                  \n",
              "Covariance Type:            nonrobust                                                  \n",
              "==============================================================================\n",
              "                 coef    std err          t      P>|t|      [0.025      0.975]\n",
              "------------------------------------------------------------------------------\n",
              "Reach          0.0020   3.09e-05     65.832      0.000       0.002       0.002\n",
              "==============================================================================\n",
              "Omnibus:                     4800.065   Durbin-Watson:                   0.762\n",
              "Prob(Omnibus):                  0.000   Jarque-Bera (JB):          5192547.294\n",
              "Skew:                           6.420   Prob(JB):                         0.00\n",
              "Kurtosis:                     185.951   Cond. No.                         1.00\n",
              "==============================================================================\n",
              "\n",
              "Warnings:\n",
              "[1] Standard Errors assume that the covariance matrix of the errors is correctly specified.\n",
              "\"\"\""
            ]
          },
          "metadata": {
            "tags": []
          },
          "execution_count": 11
        }
      ]
    },
    {
      "cell_type": "code",
      "metadata": {
        "id": "nper0cV0LiH5",
        "colab_type": "code",
        "outputId": "f1934db3-7292-4d0b-fbf7-03631388e255",
        "colab": {
          "base_uri": "https://localhost:8080/",
          "height": 478
        }
      },
      "source": [
        "## Multiple Regression\n",
        "model_2 = sm.OLS(travelpony['Unique Clicks'], travelpony[['Reach', 'Frequency']])\n",
        "model_2.fit().summary()"
      ],
      "execution_count": 0,
      "outputs": [
        {
          "output_type": "execute_result",
          "data": {
            "text/html": [
              "<table class=\"simpletable\">\n",
              "<caption>OLS Regression Results</caption>\n",
              "<tr>\n",
              "  <th>Dep. Variable:</th>      <td>Unique Clicks</td>  <th>  R-squared (uncentered):</th>      <td>   0.557</td> \n",
              "</tr>\n",
              "<tr>\n",
              "  <th>Model:</th>                   <td>OLS</td>       <th>  Adj. R-squared (uncentered):</th> <td>   0.556</td> \n",
              "</tr>\n",
              "<tr>\n",
              "  <th>Method:</th>             <td>Least Squares</td>  <th>  F-statistic:       </th>          <td>   2325.</td> \n",
              "</tr>\n",
              "<tr>\n",
              "  <th>Date:</th>             <td>Wed, 13 Nov 2019</td> <th>  Prob (F-statistic):</th>           <td>  0.00</td>  \n",
              "</tr>\n",
              "<tr>\n",
              "  <th>Time:</th>                 <td>23:52:05</td>     <th>  Log-Likelihood:    </th>          <td> -15973.</td> \n",
              "</tr>\n",
              "<tr>\n",
              "  <th>No. Observations:</th>      <td>  3705</td>      <th>  AIC:               </th>          <td>3.195e+04</td>\n",
              "</tr>\n",
              "<tr>\n",
              "  <th>Df Residuals:</th>          <td>  3703</td>      <th>  BIC:               </th>          <td>3.196e+04</td>\n",
              "</tr>\n",
              "<tr>\n",
              "  <th>Df Model:</th>              <td>     2</td>      <th>                     </th>              <td> </td>    \n",
              "</tr>\n",
              "<tr>\n",
              "  <th>Covariance Type:</th>      <td>nonrobust</td>    <th>                     </th>              <td> </td>    \n",
              "</tr>\n",
              "</table>\n",
              "<table class=\"simpletable\">\n",
              "<tr>\n",
              "      <td></td>         <th>coef</th>     <th>std err</th>      <th>t</th>      <th>P>|t|</th>  <th>[0.025</th>    <th>0.975]</th>  \n",
              "</tr>\n",
              "<tr>\n",
              "  <th>Reach</th>     <td>    0.0019</td> <td> 3.12e-05</td> <td>   62.490</td> <td> 0.000</td> <td>    0.002</td> <td>    0.002</td>\n",
              "</tr>\n",
              "<tr>\n",
              "  <th>Frequency</th> <td>    3.6139</td> <td>    0.298</td> <td>   12.109</td> <td> 0.000</td> <td>    3.029</td> <td>    4.199</td>\n",
              "</tr>\n",
              "</table>\n",
              "<table class=\"simpletable\">\n",
              "<tr>\n",
              "  <th>Omnibus:</th>       <td>5107.616</td> <th>  Durbin-Watson:     </th>  <td>   0.803</td>  \n",
              "</tr>\n",
              "<tr>\n",
              "  <th>Prob(Omnibus):</th>  <td> 0.000</td>  <th>  Jarque-Bera (JB):  </th> <td>5128392.747</td>\n",
              "</tr>\n",
              "<tr>\n",
              "  <th>Skew:</th>           <td> 7.331</td>  <th>  Prob(JB):          </th>  <td>    0.00</td>  \n",
              "</tr>\n",
              "<tr>\n",
              "  <th>Kurtosis:</th>       <td>184.674</td> <th>  Cond. No.          </th>  <td>9.84e+03</td>  \n",
              "</tr>\n",
              "</table><br/><br/>Warnings:<br/>[1] Standard Errors assume that the covariance matrix of the errors is correctly specified.<br/>[2] The condition number is large, 9.84e+03. This might indicate that there are<br/>strong multicollinearity or other numerical problems."
            ],
            "text/plain": [
              "<class 'statsmodels.iolib.summary.Summary'>\n",
              "\"\"\"\n",
              "                                 OLS Regression Results                                \n",
              "=======================================================================================\n",
              "Dep. Variable:          Unique Clicks   R-squared (uncentered):                   0.557\n",
              "Model:                            OLS   Adj. R-squared (uncentered):              0.556\n",
              "Method:                 Least Squares   F-statistic:                              2325.\n",
              "Date:                Wed, 13 Nov 2019   Prob (F-statistic):                        0.00\n",
              "Time:                        23:52:05   Log-Likelihood:                         -15973.\n",
              "No. Observations:                3705   AIC:                                  3.195e+04\n",
              "Df Residuals:                    3703   BIC:                                  3.196e+04\n",
              "Df Model:                           2                                                  \n",
              "Covariance Type:            nonrobust                                                  \n",
              "==============================================================================\n",
              "                 coef    std err          t      P>|t|      [0.025      0.975]\n",
              "------------------------------------------------------------------------------\n",
              "Reach          0.0019   3.12e-05     62.490      0.000       0.002       0.002\n",
              "Frequency      3.6139      0.298     12.109      0.000       3.029       4.199\n",
              "==============================================================================\n",
              "Omnibus:                     5107.616   Durbin-Watson:                   0.803\n",
              "Prob(Omnibus):                  0.000   Jarque-Bera (JB):          5128392.747\n",
              "Skew:                           7.331   Prob(JB):                         0.00\n",
              "Kurtosis:                     184.674   Cond. No.                     9.84e+03\n",
              "==============================================================================\n",
              "\n",
              "Warnings:\n",
              "[1] Standard Errors assume that the covariance matrix of the errors is correctly specified.\n",
              "[2] The condition number is large, 9.84e+03. This might indicate that there are\n",
              "strong multicollinearity or other numerical problems.\n",
              "\"\"\""
            ]
          },
          "metadata": {
            "tags": []
          },
          "execution_count": 9
        }
      ]
    },
    {
      "cell_type": "code",
      "metadata": {
        "id": "qQOa_i5ZLnIS",
        "colab_type": "code",
        "colab": {}
      },
      "source": [
        ""
      ],
      "execution_count": 0,
      "outputs": []
    }
  ]
}